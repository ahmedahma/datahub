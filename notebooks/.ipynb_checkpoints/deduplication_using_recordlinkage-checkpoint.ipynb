{
 "cells": [
  {
   "cell_type": "markdown",
   "id": "satisfied-charger",
   "metadata": {},
   "source": [
    "# **RECORDLINKAGE  TOOL**"
   ]
  },
  {
   "cell_type": "markdown",
   "id": "million-stand",
   "metadata": {},
   "source": [
    "### Required imports"
   ]
  },
  {
   "cell_type": "code",
   "execution_count": 1,
   "id": "exciting-lighter",
   "metadata": {},
   "outputs": [],
   "source": [
    "import comet_ml\n",
    "import recordlinkage\n",
    "import pandas as pd\n",
    "import numpy as np\n",
    "import shapash\n",
    "import mlxtend\n",
    "import pickle\n",
    "import random\n",
    "\n",
    "import warnings; warnings.filterwarnings(\"ignore\")\n",
    "\n",
    "from sklearn.metrics import confusion_matrix, accuracy_score, recall_score, precision_score\n",
    "from shapash.explainer.smart_explainer import SmartExplainer\n",
    "from sklearn.model_selection import train_test_split\n",
    "from mlxtend.plotting import plot_confusion_matrix\n",
    "from codecarbon import EmissionsTracker\n",
    "from lightgbm import LGBMClassifier\n",
    "from recordlinkage import datasets\n",
    "from comet_ml import Experiment\n",
    "from PIL import Image"
   ]
  },
  {
   "cell_type": "markdown",
   "id": "dedicated-supply",
   "metadata": {},
   "source": [
    "\n",
    "### Loading datasets "
   ]
  },
  {
   "cell_type": "code",
   "execution_count": 2,
   "id": "clean-missile",
   "metadata": {},
   "outputs": [],
   "source": [
    "first_febrl_dataset, second_febrl_dataset = datasets.load_febrl4(return_links=False)"
   ]
  },
  {
   "cell_type": "code",
   "execution_count": 3,
   "id": "enabling-processing",
   "metadata": {},
   "outputs": [],
   "source": [
    "indexes_frst_febrl_dataset = sorted(first_febrl_dataset.index)\n",
    "indexes_scd_febrl_dataset = sorted(second_febrl_dataset.index)\n",
    "tuples_true_links = list(zip(indexes_frst_febrl_dataset, indexes_scd_febrl_dataset))\n",
    "true_links = pd.MultiIndex.from_tuples(tuples_true_links, names=('org_data', 'dpl_data'))"
   ]
  },
  {
   "cell_type": "code",
   "execution_count": 4,
   "id": "exterior-planet",
   "metadata": {},
   "outputs": [
    {
     "data": {
      "text/html": [
       "<div>\n",
       "<style scoped>\n",
       "    .dataframe tbody tr th:only-of-type {\n",
       "        vertical-align: middle;\n",
       "    }\n",
       "\n",
       "    .dataframe tbody tr th {\n",
       "        vertical-align: top;\n",
       "    }\n",
       "\n",
       "    .dataframe thead th {\n",
       "        text-align: right;\n",
       "    }\n",
       "</style>\n",
       "<table border=\"1\" class=\"dataframe\">\n",
       "  <thead>\n",
       "    <tr style=\"text-align: right;\">\n",
       "      <th></th>\n",
       "      <th>given_name</th>\n",
       "      <th>surname</th>\n",
       "      <th>street_number</th>\n",
       "      <th>address_1</th>\n",
       "      <th>address_2</th>\n",
       "      <th>suburb</th>\n",
       "      <th>postcode</th>\n",
       "      <th>state</th>\n",
       "      <th>date_of_birth</th>\n",
       "      <th>soc_sec_id</th>\n",
       "    </tr>\n",
       "    <tr>\n",
       "      <th>rec_id</th>\n",
       "      <th></th>\n",
       "      <th></th>\n",
       "      <th></th>\n",
       "      <th></th>\n",
       "      <th></th>\n",
       "      <th></th>\n",
       "      <th></th>\n",
       "      <th></th>\n",
       "      <th></th>\n",
       "      <th></th>\n",
       "    </tr>\n",
       "  </thead>\n",
       "  <tbody>\n",
       "    <tr>\n",
       "      <th>rec-1070-org</th>\n",
       "      <td>michaela</td>\n",
       "      <td>neumann</td>\n",
       "      <td>8</td>\n",
       "      <td>stanley street</td>\n",
       "      <td>miami</td>\n",
       "      <td>winston hills</td>\n",
       "      <td>4223</td>\n",
       "      <td>nsw</td>\n",
       "      <td>19151111</td>\n",
       "      <td>5304218</td>\n",
       "    </tr>\n",
       "    <tr>\n",
       "      <th>rec-1016-org</th>\n",
       "      <td>courtney</td>\n",
       "      <td>painter</td>\n",
       "      <td>12</td>\n",
       "      <td>pinkerton circuit</td>\n",
       "      <td>bega flats</td>\n",
       "      <td>richlands</td>\n",
       "      <td>4560</td>\n",
       "      <td>vic</td>\n",
       "      <td>19161214</td>\n",
       "      <td>4066625</td>\n",
       "    </tr>\n",
       "    <tr>\n",
       "      <th>rec-4405-org</th>\n",
       "      <td>charles</td>\n",
       "      <td>green</td>\n",
       "      <td>38</td>\n",
       "      <td>salkauskas crescent</td>\n",
       "      <td>kela</td>\n",
       "      <td>dapto</td>\n",
       "      <td>4566</td>\n",
       "      <td>nsw</td>\n",
       "      <td>19480930</td>\n",
       "      <td>4365168</td>\n",
       "    </tr>\n",
       "    <tr>\n",
       "      <th>rec-1288-org</th>\n",
       "      <td>vanessa</td>\n",
       "      <td>parr</td>\n",
       "      <td>905</td>\n",
       "      <td>macquoid place</td>\n",
       "      <td>broadbridge manor</td>\n",
       "      <td>south grafton</td>\n",
       "      <td>2135</td>\n",
       "      <td>sa</td>\n",
       "      <td>19951119</td>\n",
       "      <td>9239102</td>\n",
       "    </tr>\n",
       "    <tr>\n",
       "      <th>rec-3585-org</th>\n",
       "      <td>mikayla</td>\n",
       "      <td>malloney</td>\n",
       "      <td>37</td>\n",
       "      <td>randwick road</td>\n",
       "      <td>avalind</td>\n",
       "      <td>hoppers crossing</td>\n",
       "      <td>4552</td>\n",
       "      <td>vic</td>\n",
       "      <td>19860208</td>\n",
       "      <td>7207688</td>\n",
       "    </tr>\n",
       "    <tr>\n",
       "      <th>...</th>\n",
       "      <td>...</td>\n",
       "      <td>...</td>\n",
       "      <td>...</td>\n",
       "      <td>...</td>\n",
       "      <td>...</td>\n",
       "      <td>...</td>\n",
       "      <td>...</td>\n",
       "      <td>...</td>\n",
       "      <td>...</td>\n",
       "      <td>...</td>\n",
       "    </tr>\n",
       "    <tr>\n",
       "      <th>rec-2153-org</th>\n",
       "      <td>annabel</td>\n",
       "      <td>grierson</td>\n",
       "      <td>97</td>\n",
       "      <td>mclachlan crescent</td>\n",
       "      <td>lantana lodge</td>\n",
       "      <td>broome</td>\n",
       "      <td>2480</td>\n",
       "      <td>nsw</td>\n",
       "      <td>19840224</td>\n",
       "      <td>7676186</td>\n",
       "    </tr>\n",
       "    <tr>\n",
       "      <th>rec-1604-org</th>\n",
       "      <td>sienna</td>\n",
       "      <td>musolino</td>\n",
       "      <td>22</td>\n",
       "      <td>smeaton circuit</td>\n",
       "      <td>pangani</td>\n",
       "      <td>mckinnon</td>\n",
       "      <td>2700</td>\n",
       "      <td>nsw</td>\n",
       "      <td>19890525</td>\n",
       "      <td>4971506</td>\n",
       "    </tr>\n",
       "    <tr>\n",
       "      <th>rec-1003-org</th>\n",
       "      <td>bradley</td>\n",
       "      <td>matthews</td>\n",
       "      <td>2</td>\n",
       "      <td>jondol place</td>\n",
       "      <td>horseshoe ck</td>\n",
       "      <td>jacobs well</td>\n",
       "      <td>7018</td>\n",
       "      <td>sa</td>\n",
       "      <td>19481122</td>\n",
       "      <td>8927667</td>\n",
       "    </tr>\n",
       "    <tr>\n",
       "      <th>rec-4883-org</th>\n",
       "      <td>brodee</td>\n",
       "      <td>egan</td>\n",
       "      <td>88</td>\n",
       "      <td>axon street</td>\n",
       "      <td>greenslopes</td>\n",
       "      <td>wamberal</td>\n",
       "      <td>2067</td>\n",
       "      <td>qld</td>\n",
       "      <td>19121113</td>\n",
       "      <td>6039042</td>\n",
       "    </tr>\n",
       "    <tr>\n",
       "      <th>rec-66-org</th>\n",
       "      <td>koula</td>\n",
       "      <td>houweling</td>\n",
       "      <td>3</td>\n",
       "      <td>mileham street</td>\n",
       "      <td>old airdmillan road</td>\n",
       "      <td>williamstown</td>\n",
       "      <td>2350</td>\n",
       "      <td>nsw</td>\n",
       "      <td>19440718</td>\n",
       "      <td>6375537</td>\n",
       "    </tr>\n",
       "  </tbody>\n",
       "</table>\n",
       "<p>5000 rows × 10 columns</p>\n",
       "</div>"
      ],
      "text/plain": [
       "             given_name    surname street_number            address_1  \\\n",
       "rec_id                                                                  \n",
       "rec-1070-org   michaela    neumann             8       stanley street   \n",
       "rec-1016-org   courtney    painter            12    pinkerton circuit   \n",
       "rec-4405-org    charles      green            38  salkauskas crescent   \n",
       "rec-1288-org    vanessa       parr           905       macquoid place   \n",
       "rec-3585-org    mikayla   malloney            37        randwick road   \n",
       "...                 ...        ...           ...                  ...   \n",
       "rec-2153-org    annabel   grierson            97   mclachlan crescent   \n",
       "rec-1604-org     sienna   musolino            22      smeaton circuit   \n",
       "rec-1003-org    bradley   matthews             2         jondol place   \n",
       "rec-4883-org     brodee       egan            88          axon street   \n",
       "rec-66-org        koula  houweling             3       mileham street   \n",
       "\n",
       "                        address_2            suburb postcode state  \\\n",
       "rec_id                                                               \n",
       "rec-1070-org                miami     winston hills     4223   nsw   \n",
       "rec-1016-org           bega flats         richlands     4560   vic   \n",
       "rec-4405-org                 kela             dapto     4566   nsw   \n",
       "rec-1288-org    broadbridge manor     south grafton     2135    sa   \n",
       "rec-3585-org              avalind  hoppers crossing     4552   vic   \n",
       "...                           ...               ...      ...   ...   \n",
       "rec-2153-org        lantana lodge            broome     2480   nsw   \n",
       "rec-1604-org              pangani          mckinnon     2700   nsw   \n",
       "rec-1003-org         horseshoe ck       jacobs well     7018    sa   \n",
       "rec-4883-org          greenslopes          wamberal     2067   qld   \n",
       "rec-66-org    old airdmillan road      williamstown     2350   nsw   \n",
       "\n",
       "             date_of_birth soc_sec_id  \n",
       "rec_id                                 \n",
       "rec-1070-org      19151111    5304218  \n",
       "rec-1016-org      19161214    4066625  \n",
       "rec-4405-org      19480930    4365168  \n",
       "rec-1288-org      19951119    9239102  \n",
       "rec-3585-org      19860208    7207688  \n",
       "...                    ...        ...  \n",
       "rec-2153-org      19840224    7676186  \n",
       "rec-1604-org      19890525    4971506  \n",
       "rec-1003-org      19481122    8927667  \n",
       "rec-4883-org      19121113    6039042  \n",
       "rec-66-org        19440718    6375537  \n",
       "\n",
       "[5000 rows x 10 columns]"
      ]
     },
     "metadata": {},
     "output_type": "display_data"
    }
   ],
   "source": [
    "display(first_febrl_dataset)"
   ]
  },
  {
   "cell_type": "markdown",
   "id": "descending-vehicle",
   "metadata": {},
   "source": [
    "## **PREPROCESSING**"
   ]
  },
  {
   "cell_type": "markdown",
   "id": "fallen-annual",
   "metadata": {},
   "source": [
    "Recordlinkage propose un étape de préprocessing. Nous ne l'utilisons pas ici car les données utilisées sont déjà pré processées. "
   ]
  },
  {
   "cell_type": "markdown",
   "id": "valuable-housing",
   "metadata": {},
   "source": [
    "## **INDEXATION**"
   ]
  },
  {
   "cell_type": "markdown",
   "id": "greek-supplier",
   "metadata": {},
   "source": [
    "L'indexation n'est faisable que sur **un** ou **deux** jeu de données. 4 méthodes d'indexations sont proposées par l'outil:\n",
    "- Full : renvoie toutes les combinaisons de paires possibles\n",
    "- Block : renvoie toutes les lignes ayant des valeurs égales sur une ou plusieurs des colonnes données en entrée \n",
    "- SortedNeighbourhood : renvoie les paires ayant des valeurs similaires sur une ou plusieurs des colonnes données en entrée et celles dans leur voisinnage\n",
    "- Random : renvoie des paires crées aléatoirement\n",
    "\n",
    "Ici, nous testons les méthodes **block** et **SortedNeighbourhood** en utilisant les colonnes 'given_name', 'address_1' et 'date_of_birth'. "
   ]
  },
  {
   "cell_type": "markdown",
   "id": "right-sunday",
   "metadata": {},
   "source": [
    "### **1. Méthode de blocage**"
   ]
  },
  {
   "cell_type": "code",
   "execution_count": 5,
   "id": "differential-directive",
   "metadata": {},
   "outputs": [],
   "source": [
    "def block_indexing(blocking_key: list):\n",
    "    indexer = recordlinkage.Index()\n",
    "    for column in blocking_key:\n",
    "        indexer.block(on=column)\n",
    "        pairs_to_comp = indexer.index(first_febrl_dataset, second_febrl_dataset)\n",
    "        real_link_found = pairs_to_comp & true_links\n",
    "        print(\"Nombre de paires sélectionnées: {}\".format(len(pairs_to_comp)))\n",
    "        print(\"Pourcentage de vraies paires selctionnées: {}%. \\n\".format(len(real_link_found)/len(true_links)*100))\n",
    "        \n",
    "    return pairs_to_comp"
   ]
  },
  {
   "cell_type": "markdown",
   "id": "compressed-copper",
   "metadata": {},
   "source": [
    "Pour évaluer les résultats de la méthode d'indexation utilisée, nous regardons deux élements:\n",
    "- le pourcentage de paires dupliquées detectées\n",
    "- la performance de la méthode en fonction du nombre de clé de blockage utilisée\n"
   ]
  },
  {
   "cell_type": "code",
   "execution_count": 6,
   "id": "thermal-monday",
   "metadata": {},
   "outputs": [
    {
     "name": "stdout",
     "output_type": "stream",
     "text": [
      "Nombre de paires sélectionnées: 77249\n",
      "Pourcentage de vraies paires selctionnées: 65.74%. \n",
      "\n",
      "Nombre de paires sélectionnées: 85758\n",
      "Pourcentage de vraies paires selctionnées: 87.42%. \n",
      "\n",
      "Nombre de paires sélectionnées: 86959\n",
      "Pourcentage de vraies paires selctionnées: 98.72%. \n",
      "\n"
     ]
    }
   ],
   "source": [
    "pairs_to_comp_block = block_indexing(['given_name', 'address_1', 'date_of_birth'])"
   ]
  },
  {
   "cell_type": "markdown",
   "id": "nonprofit-annual",
   "metadata": {},
   "source": [
    "L'étape d'indexation est cruciale. **Plus on donne d'informations (précises) en entrée, meilleure est la précision selection de paires de candidats à comparer.** "
   ]
  },
  {
   "cell_type": "markdown",
   "id": "dedicated-country",
   "metadata": {},
   "source": [
    "#### **Ressemblance des paires selectionnées**"
   ]
  },
  {
   "cell_type": "markdown",
   "id": "arctic-jersey",
   "metadata": {},
   "source": [
    "Le processus de recherche des clés peut être effectuée de manière itérative, en examinant manuellement la sortie du blocage et en réglant la clé jusqu'à ce que la précision requise soit atteinte."
   ]
  },
  {
   "cell_type": "code",
   "execution_count": 7,
   "id": "retired-poster",
   "metadata": {},
   "outputs": [],
   "source": [
    "def selected_pairs_values(list_tuple:list):\n",
    "    selected_pairs_values_df = pd.DataFrame(columns=first_febrl_dataset.columns)\n",
    "    for tpl in list_tuple:\n",
    "        first_candidate = first_febrl_dataset.iloc[first_febrl_dataset.index.isin([tpl[0]])]\n",
    "        second_candidate = second_febrl_dataset.iloc[second_febrl_dataset.index.isin([tpl[1]])]\n",
    "        concat_df = pd.concat([first_candidate, second_candidate])\n",
    "        #candidates_df = candidates_df.style.applymap(lambda x: 'background-color: yellow' if True else '')\n",
    "        \n",
    "        selected_pairs_values_df = pd.concat([selected_pairs_values_df, concat_df])\n",
    "    return selected_pairs_values_df "
   ]
  },
  {
   "cell_type": "markdown",
   "id": "color-recruitment",
   "metadata": {},
   "source": [
    "### **2. Méthode du SortedNeighborhood**"
   ]
  },
  {
   "cell_type": "markdown",
   "id": "olympic-border",
   "metadata": {},
   "source": [
    "Dans le cas ou les données sont susceptible de contenir des erreurs de typographies, utiliser la méthode SortedNeighborhood peut ajouter une certaine flexibilité pour les fautes d'orthographe mineures. "
   ]
  },
  {
   "cell_type": "code",
   "execution_count": 8,
   "id": "annoying-capture",
   "metadata": {},
   "outputs": [],
   "source": [
    "def sorted_neighbourhood_indexing(blocking_key: list):\n",
    "    for column in blocking_key:\n",
    "        indexer = recordlinkage.SortedNeighbourhoodIndex(column)\n",
    "        pairs_to_comp = indexer.index(first_febrl_dataset, second_febrl_dataset)\n",
    "        real_link_found = pairs_to_comp & true_links\n",
    "        print(\"Nombre de paires sélectionnées: {}\".format(len(pairs_to_comp)))\n",
    "        print(\"Pourcentage de vraies paires selctionnées: {}%.\\n\".format(len(real_link_found)/len(true_links)*100))\n",
    "        \n",
    "    return pairs_to_comp"
   ]
  },
  {
   "cell_type": "code",
   "execution_count": 9,
   "id": "complicated-manitoba",
   "metadata": {},
   "outputs": [
    {
     "name": "stdout",
     "output_type": "stream",
     "text": [
      "Nombre de paires sélectionnées: 96573\n",
      "Pourcentage de vraies paires selctionnées: 71.26%.\n",
      "\n",
      "Nombre de paires sélectionnées: 21383\n",
      "Pourcentage de vraies paires selctionnées: 83.86%.\n",
      "\n",
      "Nombre de paires sélectionnées: 14770\n",
      "Pourcentage de vraies paires selctionnées: 89.48%.\n",
      "\n",
      "Nombre de paires sélectionnées: 13901\n",
      "Pourcentage de vraies paires selctionnées: 94.48%.\n",
      "\n"
     ]
    }
   ],
   "source": [
    "pairs_to_comp_sn = sorted_neighbourhood_indexing(['given_name', 'address_1', 'date_of_birth', 'soc_sec_id'])"
   ]
  },
  {
   "cell_type": "markdown",
   "id": "excited-japanese",
   "metadata": {},
   "source": [
    "## **COMPARAISON**"
   ]
  },
  {
   "cell_type": "markdown",
   "id": "loved-oxford",
   "metadata": {},
   "source": [
    "La méthode suivante consiste à comparer les paires en utilisant *Compare*.\n",
    "Nous pouvons définir plusieurs options pour la façon dont nous voulons comparer les colonnes de données."
   ]
  },
  {
   "cell_type": "code",
   "execution_count": 10,
   "id": "capable-palestinian",
   "metadata": {},
   "outputs": [],
   "source": [
    "compare = recordlinkage.Compare()\n",
    "\n",
    "# initialise similarity measurement algorithms\n",
    "compare.string('given_name', 'given_name', method='jarowinkler')\n",
    "compare.string('surname', 'surname', method='jarowinkler')\n",
    "compare.string('address_1', 'address_1', method='levenshtein')\n",
    "compare.exact('soc_sec_id', 'soc_sec_id')\n",
    "\n",
    "# the method .compute() returns the DataFrame with the feature vectors.\n",
    "comp_scores = compare.compute(pairs_to_comp_block, first_febrl_dataset, second_febrl_dataset)"
   ]
  },
  {
   "cell_type": "code",
   "execution_count": 11,
   "id": "musical-fiber",
   "metadata": {},
   "outputs": [],
   "source": [
    "comp_scores['tupled_index'] = comp_scores.index.tolist()\n",
    "comp_scores['label'] = comp_scores['tupled_index'].apply(lambda x: 1 if x in true_links else 0)\n",
    "comp_scores.columns = ['given_name_score', 'surname_score', 'address_1_score', 'soc_sec_id_score', 'tupled_index', 'label']"
   ]
  },
  {
   "cell_type": "code",
   "execution_count": 12,
   "id": "greatest-mills",
   "metadata": {},
   "outputs": [
    {
     "data": {
      "text/html": [
       "<div>\n",
       "<style scoped>\n",
       "    .dataframe tbody tr th:only-of-type {\n",
       "        vertical-align: middle;\n",
       "    }\n",
       "\n",
       "    .dataframe tbody tr th {\n",
       "        vertical-align: top;\n",
       "    }\n",
       "\n",
       "    .dataframe thead th {\n",
       "        text-align: right;\n",
       "    }\n",
       "</style>\n",
       "<table border=\"1\" class=\"dataframe\">\n",
       "  <thead>\n",
       "    <tr style=\"text-align: right;\">\n",
       "      <th></th>\n",
       "      <th></th>\n",
       "      <th>given_name_score</th>\n",
       "      <th>surname_score</th>\n",
       "      <th>address_1_score</th>\n",
       "      <th>soc_sec_id_score</th>\n",
       "      <th>tupled_index</th>\n",
       "      <th>label</th>\n",
       "    </tr>\n",
       "    <tr>\n",
       "      <th>rec_id_1</th>\n",
       "      <th>rec_id_2</th>\n",
       "      <th></th>\n",
       "      <th></th>\n",
       "      <th></th>\n",
       "      <th></th>\n",
       "      <th></th>\n",
       "      <th></th>\n",
       "    </tr>\n",
       "  </thead>\n",
       "  <tbody>\n",
       "    <tr>\n",
       "      <th rowspan=\"5\" valign=\"top\">rec-0-org</th>\n",
       "      <th>rec-0-dup-0</th>\n",
       "      <td>1.000000</td>\n",
       "      <td>1.000000</td>\n",
       "      <td>1.000000</td>\n",
       "      <td>1</td>\n",
       "      <td>(rec-0-org, rec-0-dup-0)</td>\n",
       "      <td>1</td>\n",
       "    </tr>\n",
       "    <tr>\n",
       "      <th>rec-1230-dup-0</th>\n",
       "      <td>0.595238</td>\n",
       "      <td>0.407407</td>\n",
       "      <td>1.000000</td>\n",
       "      <td>0</td>\n",
       "      <td>(rec-0-org, rec-1230-dup-0)</td>\n",
       "      <td>0</td>\n",
       "    </tr>\n",
       "    <tr>\n",
       "      <th>rec-2323-dup-0</th>\n",
       "      <td>1.000000</td>\n",
       "      <td>0.000000</td>\n",
       "      <td>0.235294</td>\n",
       "      <td>0</td>\n",
       "      <td>(rec-0-org, rec-2323-dup-0)</td>\n",
       "      <td>0</td>\n",
       "    </tr>\n",
       "    <tr>\n",
       "      <th>rec-254-dup-0</th>\n",
       "      <td>0.000000</td>\n",
       "      <td>0.500000</td>\n",
       "      <td>1.000000</td>\n",
       "      <td>0</td>\n",
       "      <td>(rec-0-org, rec-254-dup-0)</td>\n",
       "      <td>0</td>\n",
       "    </tr>\n",
       "    <tr>\n",
       "      <th>rec-3625-dup-0</th>\n",
       "      <td>0.714286</td>\n",
       "      <td>0.000000</td>\n",
       "      <td>1.000000</td>\n",
       "      <td>0</td>\n",
       "      <td>(rec-0-org, rec-3625-dup-0)</td>\n",
       "      <td>0</td>\n",
       "    </tr>\n",
       "    <tr>\n",
       "      <th>...</th>\n",
       "      <th>...</th>\n",
       "      <td>...</td>\n",
       "      <td>...</td>\n",
       "      <td>...</td>\n",
       "      <td>...</td>\n",
       "      <td>...</td>\n",
       "      <td>...</td>\n",
       "    </tr>\n",
       "    <tr>\n",
       "      <th rowspan=\"5\" valign=\"top\">rec-999-org</th>\n",
       "      <th>rec-4961-dup-0</th>\n",
       "      <td>1.000000</td>\n",
       "      <td>0.458333</td>\n",
       "      <td>0.000000</td>\n",
       "      <td>0</td>\n",
       "      <td>(rec-999-org, rec-4961-dup-0)</td>\n",
       "      <td>0</td>\n",
       "    </tr>\n",
       "    <tr>\n",
       "      <th>rec-56-dup-0</th>\n",
       "      <td>1.000000</td>\n",
       "      <td>0.453704</td>\n",
       "      <td>0.133333</td>\n",
       "      <td>0</td>\n",
       "      <td>(rec-999-org, rec-56-dup-0)</td>\n",
       "      <td>0</td>\n",
       "    </tr>\n",
       "    <tr>\n",
       "      <th>rec-675-dup-0</th>\n",
       "      <td>1.000000</td>\n",
       "      <td>0.000000</td>\n",
       "      <td>0.133333</td>\n",
       "      <td>0</td>\n",
       "      <td>(rec-999-org, rec-675-dup-0)</td>\n",
       "      <td>0</td>\n",
       "    </tr>\n",
       "    <tr>\n",
       "      <th>rec-91-dup-0</th>\n",
       "      <td>1.000000</td>\n",
       "      <td>0.611111</td>\n",
       "      <td>0.466667</td>\n",
       "      <td>0</td>\n",
       "      <td>(rec-999-org, rec-91-dup-0)</td>\n",
       "      <td>0</td>\n",
       "    </tr>\n",
       "    <tr>\n",
       "      <th>rec-999-dup-0</th>\n",
       "      <td>1.000000</td>\n",
       "      <td>1.000000</td>\n",
       "      <td>1.000000</td>\n",
       "      <td>1</td>\n",
       "      <td>(rec-999-org, rec-999-dup-0)</td>\n",
       "      <td>1</td>\n",
       "    </tr>\n",
       "  </tbody>\n",
       "</table>\n",
       "<p>86959 rows × 6 columns</p>\n",
       "</div>"
      ],
      "text/plain": [
       "                            given_name_score  surname_score  address_1_score  \\\n",
       "rec_id_1    rec_id_2                                                           \n",
       "rec-0-org   rec-0-dup-0             1.000000       1.000000         1.000000   \n",
       "            rec-1230-dup-0          0.595238       0.407407         1.000000   \n",
       "            rec-2323-dup-0          1.000000       0.000000         0.235294   \n",
       "            rec-254-dup-0           0.000000       0.500000         1.000000   \n",
       "            rec-3625-dup-0          0.714286       0.000000         1.000000   \n",
       "...                                      ...            ...              ...   \n",
       "rec-999-org rec-4961-dup-0          1.000000       0.458333         0.000000   \n",
       "            rec-56-dup-0            1.000000       0.453704         0.133333   \n",
       "            rec-675-dup-0           1.000000       0.000000         0.133333   \n",
       "            rec-91-dup-0            1.000000       0.611111         0.466667   \n",
       "            rec-999-dup-0           1.000000       1.000000         1.000000   \n",
       "\n",
       "                            soc_sec_id_score                   tupled_index  \\\n",
       "rec_id_1    rec_id_2                                                          \n",
       "rec-0-org   rec-0-dup-0                    1       (rec-0-org, rec-0-dup-0)   \n",
       "            rec-1230-dup-0                 0    (rec-0-org, rec-1230-dup-0)   \n",
       "            rec-2323-dup-0                 0    (rec-0-org, rec-2323-dup-0)   \n",
       "            rec-254-dup-0                  0     (rec-0-org, rec-254-dup-0)   \n",
       "            rec-3625-dup-0                 0    (rec-0-org, rec-3625-dup-0)   \n",
       "...                                      ...                            ...   \n",
       "rec-999-org rec-4961-dup-0                 0  (rec-999-org, rec-4961-dup-0)   \n",
       "            rec-56-dup-0                   0    (rec-999-org, rec-56-dup-0)   \n",
       "            rec-675-dup-0                  0   (rec-999-org, rec-675-dup-0)   \n",
       "            rec-91-dup-0                   0    (rec-999-org, rec-91-dup-0)   \n",
       "            rec-999-dup-0                  1   (rec-999-org, rec-999-dup-0)   \n",
       "\n",
       "                            label  \n",
       "rec_id_1    rec_id_2               \n",
       "rec-0-org   rec-0-dup-0         1  \n",
       "            rec-1230-dup-0      0  \n",
       "            rec-2323-dup-0      0  \n",
       "            rec-254-dup-0       0  \n",
       "            rec-3625-dup-0      0  \n",
       "...                           ...  \n",
       "rec-999-org rec-4961-dup-0      0  \n",
       "            rec-56-dup-0        0  \n",
       "            rec-675-dup-0       0  \n",
       "            rec-91-dup-0        0  \n",
       "            rec-999-dup-0       1  \n",
       "\n",
       "[86959 rows x 6 columns]"
      ]
     },
     "execution_count": 12,
     "metadata": {},
     "output_type": "execute_result"
    }
   ],
   "source": [
    "comp_scores"
   ]
  },
  {
   "cell_type": "markdown",
   "id": "another-gravity",
   "metadata": {},
   "source": [
    "### **CLASSIFICATION & CODE CARBON**"
   ]
  },
  {
   "cell_type": "markdown",
   "id": "bound-production",
   "metadata": {},
   "source": [
    "Les vecteurs de scores de similarités sont donnés en entrée au classifieur (supervisé ou non supervisé). "
   ]
  },
  {
   "cell_type": "code",
   "execution_count": 13,
   "id": "cubic-prediction",
   "metadata": {},
   "outputs": [],
   "source": [
    "train, test = train_test_split(comp_scores, test_size=0.25)\n",
    "X_train = train[['given_name_score', 'surname_score', 'address_1_score', 'soc_sec_id_score']]\n",
    "X_test = test[['given_name_score', 'surname_score', 'address_1_score', 'soc_sec_id_score']]\n",
    "y_train, y_test = train['label'], test['label']"
   ]
  },
  {
   "cell_type": "code",
   "execution_count": 14,
   "id": "assumed-representation",
   "metadata": {},
   "outputs": [
    {
     "name": "stderr",
     "output_type": "stream",
     "text": [
      "INFO:apscheduler.scheduler:Adding job tentatively -- it will be properly scheduled when the scheduler starts\n",
      "INFO:apscheduler.scheduler:Added job \"BaseEmissionsTracker._measure_power\" to job store \"default\"\n",
      "INFO:apscheduler.scheduler:Scheduler started\n",
      "INFO:apscheduler.scheduler:Scheduler has been shut down\n"
     ]
    },
    {
     "data": {
      "text/plain": [
       "6.013966871143404e-08"
      ]
     },
     "execution_count": 14,
     "metadata": {},
     "output_type": "execute_result"
    }
   ],
   "source": [
    "tracker = EmissionsTracker(project_name=\"tdf_innovation\")\n",
    "tracker.start()\n",
    "\n",
    "classifier = LGBMClassifier()\n",
    "classifier.fit(X_train, y_train)\n",
    "predictions = classifier.predict(X_test)\n",
    "\n",
    "tracker.stop()"
   ]
  },
  {
   "cell_type": "code",
   "execution_count": 15,
   "id": "intended-spectrum",
   "metadata": {},
   "outputs": [],
   "source": [
    "code_carbon_res = Image.open('codecarbon_vis.png');"
   ]
  },
  {
   "cell_type": "code",
   "execution_count": 16,
   "id": "clear-expert",
   "metadata": {},
   "outputs": [
    {
     "data": {
      "image/png": "[encoded data removed]",
      "text/plain": [
       "<PIL.PngImagePlugin.PngImageFile image mode=RGBA size=1812x1624 at 0x126707810>"
      ]
     },
     "execution_count": 16,
     "metadata": {},
     "output_type": "execute_result"
    }
   ],
   "source": [
    "code_carbon_res"
   ]
  },
  {
   "cell_type": "markdown",
   "id": "experimental-prospect",
   "metadata": {},
   "source": [
    "## EVALUATION "
   ]
  },
  {
   "cell_type": "markdown",
   "id": "exciting-macro",
   "metadata": {},
   "source": [
    "Pour évaluer le modèle de classification, nous utilisons les méthodes d'évaluation de performance habituelles."
   ]
  },
  {
   "cell_type": "code",
   "execution_count": 17,
   "id": "south-hardwood",
   "metadata": {},
   "outputs": [],
   "source": [
    "def evaluation(Y_test, predictions):\n",
    "    recall = recall_score(Y_test, predictions)\n",
    "    precision = precision_score(Y_test, predictions)\n",
    "    accuracy = accuracy_score(Y_test, predictions)\n",
    "    \n",
    "    print(\"Rappel: {}\".format(recall))\n",
    "    print(\"Precision: {}\".format(precision))\n",
    "    print(\"Accuracy: {}\".format(accuracy))\n",
    "    print(\"0 : match \\n1: non match\")\n",
    "    plot_confusion_matrix(confusion_matrix(Y_test, predictions))\n",
    "    \n",
    "    return recall, precision, accuracy"
   ]
  },
  {
   "cell_type": "code",
   "execution_count": 18,
   "id": "female-stephen",
   "metadata": {},
   "outputs": [
    {
     "name": "stdout",
     "output_type": "stream",
     "text": [
      "Rappel: 0.986863711001642\n",
      "Precision: 0.9950331125827815\n",
      "Accuracy: 0.9989880404783809\n",
      "0 : match \n",
      "1: non match\n"
     ]
    },
    {
     "data": {
      "image/png": "[encoded data removed]",
      "text/plain": [
       "<Figure size 432x288 with 1 Axes>"
      ]
     },
     "metadata": {
      "needs_background": "light"
     },
     "output_type": "display_data"
    }
   ],
   "source": [
    "recall, precision, accuracy = evaluation(y_test, predictions)"
   ]
  },
  {
   "cell_type": "markdown",
   "id": "about-election",
   "metadata": {},
   "source": [
    "**Visualisation des erreurs: faux positifs et faux négatifs**"
   ]
  },
  {
   "cell_type": "code",
   "execution_count": 19,
   "id": "critical-essence",
   "metadata": {},
   "outputs": [],
   "source": [
    "def select_candidates_from_false_negatif_prediction():\n",
    "    false_negatif_df = pd.DataFrame(columns = first_febrl_dataset.columns)\n",
    "    predicted_non_match = list(set(test.index) - set(predictions))\n",
    "    # format change\n",
    "    predicted_non_match = pd.MultiIndex.from_tuples(predicted_non_match, names=('org', 'dup'))\n",
    "    false_negatif = predicted_non_match & true_links \n",
    "        \n",
    "    for tpl in false_negatif: \n",
    "        first_candidate = first_febrl_dataset.iloc[first_febrl_dataset.index.isin([tpl[0]])]\n",
    "        second_candidate = second_febrl_dataset.iloc[second_febrl_dataset.index.isin([tpl[1]])]\n",
    "        false_negatif_df = pd.concat([false_negatif_df, first_candidate, second_candidate])\n",
    "    return false_negatif_df \n",
    "\n",
    "def select_candidates_from_false_positif_prediction():\n",
    "    false_positif_df = pd.DataFrame(columns = first_febrl_dataset.columns)\n",
    "    false_positif = list(set(predictions) - set(true_links))\n",
    "    \n",
    "    for tpl in false_positif: \n",
    "        first_candidate = first_febrl_dataset.iloc[first_febrl_dataset.index.isin([tpl[0]])]\n",
    "        second_candidate = second_febrl_dataset.iloc[second_febrl_dataset.index.isin([tpl[1]])]\n",
    "        false_positif_df = pd.concat([false_positif_df, first_candidate, second_candidate])\n",
    "    return false_positif_df "
   ]
  },
  {
   "cell_type": "markdown",
   "id": "motivated-feature",
   "metadata": {},
   "source": [
    "## **HUMAN REVIEW**"
   ]
  },
  {
   "cell_type": "markdown",
   "id": "optical-albert",
   "metadata": {},
   "source": [
    "La dernière étape est la revue humaine. Pour l'accompagner, nous utilisons l'outil shapash, qui est un outil de visualisation."
   ]
  },
  {
   "cell_type": "code",
   "execution_count": 20,
   "id": "lesser-bacon",
   "metadata": {},
   "outputs": [],
   "source": [
    "features = {\n",
    "     'given_name_score': 'given_name_score',\n",
    "     'surname_score': 'surname_score',\n",
    "     'address_1_score': 'address_1_score',\n",
    "     'soc_sec_id_score': 'soc_sec_id_score'\n",
    "}\n",
    "interpretable_train = train[['given_name_score', 'surname_score', 'address_1_score', 'soc_sec_id_score']]"
   ]
  },
  {
   "cell_type": "code",
   "execution_count": 21,
   "id": "following-consensus",
   "metadata": {},
   "outputs": [
    {
     "name": "stdout",
     "output_type": "stream",
     "text": [
      "Backend: Shap TreeExplainer\n"
     ]
    }
   ],
   "source": [
    "xpl = SmartExplainer(features_dict=features) # optional parameter\n",
    "xpl.compile(\n",
    "    x=X_test,\n",
    "    model=classifier,\n",
    "    y_pred= y_test\n",
    ")"
   ]
  },
  {
   "cell_type": "code",
   "execution_count": 22,
   "id": "listed-place",
   "metadata": {},
   "outputs": [],
   "source": [
    "feature_importances = Image.open('features_importances.png')\n",
    "feature_contribution = Image.open('feature_contribution.png');"
   ]
  },
  {
   "cell_type": "code",
   "execution_count": 23,
   "id": "foster-kennedy",
   "metadata": {},
   "outputs": [
    {
     "data": {
      "image/png": "[encoded data removed]",
      "text/plain": [
       "<PIL.PngImagePlugin.PngImageFile image mode=RGBA size=549x400 at 0x12A9FBD90>"
      ]
     },
     "execution_count": 23,
     "metadata": {},
     "output_type": "execute_result"
    }
   ],
   "source": [
    "feature_importances"
   ]
  },
  {
   "cell_type": "code",
   "execution_count": 24,
   "id": "terminal-footwear",
   "metadata": {},
   "outputs": [
    {
     "data": {
      "image/png": "[encoded data removed]",
      "text/plain": [
       "<PIL.PngImagePlugin.PngImageFile image mode=RGBA size=549x400 at 0x12A928B90>"
      ]
     },
     "execution_count": 24,
     "metadata": {},
     "output_type": "execute_result"
    }
   ],
   "source": [
    "feature_contribution"
   ]
  },
  {
   "cell_type": "code",
   "execution_count": 25,
   "id": "dress-bedroom",
   "metadata": {},
   "outputs": [
    {
     "name": "stdout",
     "output_type": "stream",
     "text": [
      "Dash is running on http://0.0.0.0:8050/\n",
      "\n"
     ]
    },
    {
     "name": "stderr",
     "output_type": "stream",
     "text": [
      "INFO:root:Your Shapash application run on http://AMAC02DH1CJML85:8050/\n",
      "INFO:shapash.webapp.smart_app:Dash is running on http://0.0.0.0:8050/\n",
      "\n",
      "INFO:root:Use the method .kill() to down your app.\n"
     ]
    },
    {
     "name": "stdout",
     "output_type": "stream",
     "text": [
      " * Serving Flask app \"shapash.webapp.smart_app\" (lazy loading)\n",
      " * Environment: production\n",
      "\u001b[31m   WARNING: This is a development server. Do not use it in a production deployment.\u001b[0m\n"
     ]
    }
   ],
   "source": [
    "app = xpl.run_app(title_story='Dupliacte Matches')"
   ]
  },
  {
   "cell_type": "code",
   "execution_count": 26,
   "id": "mexican-refund",
   "metadata": {},
   "outputs": [
    {
     "name": "stdout",
     "output_type": "stream",
     "text": [
      "\u001b[2m   Use a production WSGI server instead.\u001b[0m\n"
     ]
    }
   ],
   "source": [
    "app.kill()"
   ]
  },
  {
   "cell_type": "markdown",
   "id": "activated-chemistry",
   "metadata": {},
   "source": [
    "## **META DONNÉES**"
   ]
  },
  {
   "cell_type": "code",
   "execution_count": 27,
   "id": "infectious-jerusalem",
   "metadata": {},
   "outputs": [],
   "source": [
    "interpretability_meta_data_model = {\n",
    "    'model_version' : 'test',\n",
    "    'features': features,\n",
    "    'interpretable_model_train' : X_test,\n",
    "    'model_to_interprete' : classifier,\n",
    "    'prediction_to_mimic' : y_test\n",
    "}"
   ]
  },
  {
   "cell_type": "code",
   "execution_count": 28,
   "id": "approximate-socket",
   "metadata": {},
   "outputs": [
    {
     "data": {
      "text/plain": [
       "{'model_version': 'test',\n",
       " 'features': {'given_name_score': 'given_name_score',\n",
       "  'surname_score': 'surname_score',\n",
       "  'address_1_score': 'address_1_score',\n",
       "  'soc_sec_id_score': 'soc_sec_id_score'},\n",
       " 'interpretable_model_train':                              given_name_score  surname_score  address_1_score  \\\n",
       " rec_id_1     rec_id_2                                                           \n",
       " rec-4285-org rec-1809-dup-0               1.0       0.600000         0.500000   \n",
       " rec-762-org  rec-4535-dup-0               0.0       0.500000         1.000000   \n",
       " rec-504-org  rec-1475-dup-0               1.0       0.436508         0.500000   \n",
       " rec-1191-org rec-856-dup-0                1.0       0.000000         0.250000   \n",
       " rec-2135-org rec-4721-dup-0               1.0       0.600000         0.105263   \n",
       " ...                                       ...            ...              ...   \n",
       " rec-4285-org rec-3316-dup-0               1.0       0.642857         0.333333   \n",
       " rec-2578-org rec-3067-dup-0               1.0       0.441667         0.222222   \n",
       " rec-2753-org rec-1155-dup-0               1.0       0.447619         0.133333   \n",
       " rec-2860-org rec-4326-dup-0               0.0       0.374074         1.000000   \n",
       " rec-2699-org rec-123-dup-0                1.0       0.539683         0.235294   \n",
       " \n",
       "                              soc_sec_id_score  \n",
       " rec_id_1     rec_id_2                          \n",
       " rec-4285-org rec-1809-dup-0                 0  \n",
       " rec-762-org  rec-4535-dup-0                 0  \n",
       " rec-504-org  rec-1475-dup-0                 0  \n",
       " rec-1191-org rec-856-dup-0                  0  \n",
       " rec-2135-org rec-4721-dup-0                 0  \n",
       " ...                                       ...  \n",
       " rec-4285-org rec-3316-dup-0                 0  \n",
       " rec-2578-org rec-3067-dup-0                 0  \n",
       " rec-2753-org rec-1155-dup-0                 0  \n",
       " rec-2860-org rec-4326-dup-0                 0  \n",
       " rec-2699-org rec-123-dup-0                  0  \n",
       " \n",
       " [21740 rows x 4 columns],\n",
       " 'model_to_interprete': LGBMClassifier(),\n",
       " 'prediction_to_mimic': rec_id_1      rec_id_2      \n",
       " rec-4285-org  rec-1809-dup-0    0\n",
       " rec-762-org   rec-4535-dup-0    0\n",
       " rec-504-org   rec-1475-dup-0    0\n",
       " rec-1191-org  rec-856-dup-0     0\n",
       " rec-2135-org  rec-4721-dup-0    0\n",
       "                                ..\n",
       " rec-4285-org  rec-3316-dup-0    0\n",
       " rec-2578-org  rec-3067-dup-0    0\n",
       " rec-2753-org  rec-1155-dup-0    0\n",
       " rec-2860-org  rec-4326-dup-0    0\n",
       " rec-2699-org  rec-123-dup-0     0\n",
       " Name: label, Length: 21740, dtype: int64}"
      ]
     },
     "execution_count": 28,
     "metadata": {},
     "output_type": "execute_result"
    }
   ],
   "source": [
    "interpretability_meta_data_model"
   ]
  },
  {
   "cell_type": "code",
   "execution_count": 29,
   "id": "acting-transcription",
   "metadata": {},
   "outputs": [],
   "source": [
    "deduplication_pipeline_metadonnees = {\n",
    "    'first_dataset_shape' : first_febrl_dataset.shape,\n",
    "    'second_dataset_shape' : second_febrl_dataset.shape,\n",
    "    'indexing_method' : 'block',\n",
    "    'columns_used_for_indexing' : ['given_name', 'address_1', 'date_of_birth'],\n",
    "    'columns_compared' : ['given_name', 'surname', 'address_1', 'soc_sec_id'],\n",
    "    'string_method_used_for_comp' : {'given_name':'jarowinckler', 'surname':'jarowinckler','address_1':'levenshtein'},\n",
    "    'model_classification' : 'LGBMClassifier',\n",
    "    'train_size' : train.shape[0],\n",
    "    'test_size' : test.shape[0],\n",
    "    'recall_score' : recall,\n",
    "    'precision' : precision,\n",
    "    'accuracy' : accuracy,\n",
    "}"
   ]
  },
  {
   "cell_type": "code",
   "execution_count": 30,
   "id": "careful-virus",
   "metadata": {},
   "outputs": [],
   "source": [
    "def add_emissions_meta_donnée(file_path):\n",
    "    emissions_infos = pd.read_csv(file_path).iloc[-1:, :]\n",
    "    for column in emissions_infos[['duration', 'emissions', 'energy_consumed']]:\n",
    "        deduplication_pipeline_metadonnees[column] = emissions_infos[column]\n",
    "        \n",
    "    return deduplication_pipeline_metadonnees"
   ]
  },
  {
   "cell_type": "code",
   "execution_count": 31,
   "id": "hydraulic-competition",
   "metadata": {},
   "outputs": [
    {
     "data": {
      "text/plain": [
       "{'first_dataset_shape': (5000, 10),\n",
       " 'second_dataset_shape': (5000, 10),\n",
       " 'indexing_method': 'block',\n",
       " 'columns_used_for_indexing': ['given_name', 'address_1', 'date_of_birth'],\n",
       " 'columns_compared': ['given_name', 'surname', 'address_1', 'soc_sec_id'],\n",
       " 'string_method_used_for_comp': {'given_name': 'jarowinckler',\n",
       "  'surname': 'jarowinckler',\n",
       "  'address_1': 'levenshtein'},\n",
       " 'model_classification': 'LGBMClassifier',\n",
       " 'train_size': 65219,\n",
       " 'test_size': 21740,\n",
       " 'recall_score': 0.986863711001642,\n",
       " 'precision': 0.9950331125827815,\n",
       " 'accuracy': 0.9989880404783809,\n",
       " 'duration': 12    4.680032\n",
       " Name: duration, dtype: float64,\n",
       " 'emissions': 12    6.013967e-08\n",
       " Name: emissions, dtype: float64,\n",
       " 'energy_consumed': 12    1.416438e-07\n",
       " Name: energy_consumed, dtype: float64}"
      ]
     },
     "execution_count": 31,
     "metadata": {},
     "output_type": "execute_result"
    }
   ],
   "source": [
    "add_emissions_meta_donnée(\"emissions.csv\")"
   ]
  }
 ],
 "metadata": {
  "celltoolbar": "Aucun(e)",
  "kernelspec": {
   "display_name": "tdf_innovation_venv",
   "language": "python",
   "name": "tdf_innovation_venv"
  },
  "language_info": {
   "codemirror_mode": {
    "name": "ipython",
    "version": 3
   },
   "file_extension": ".py",
   "mimetype": "text/x-python",
   "name": "python",
   "nbconvert_exporter": "python",
   "pygments_lexer": "ipython3",
   "version": "3.7.10"
  }
 },
 "nbformat": 4,
 "nbformat_minor": 5
}
