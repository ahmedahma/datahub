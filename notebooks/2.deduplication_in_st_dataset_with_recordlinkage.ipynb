{
 "cells": [
  {
   "cell_type": "markdown",
   "id": "understanding-price",
   "metadata": {},
   "source": [
    "## **Imports required**"
   ]
  },
  {
   "cell_type": "code",
   "execution_count": 1,
   "id": "alive-public",
   "metadata": {},
   "outputs": [],
   "source": [
    "import recordlinkage\n",
    "import pandas as pd\n",
    "import numpy as np \n",
    "import zipfile\n",
    "import os\n",
    "\n",
    "from zipfile import ZipFile\n",
    "from recordlinkage.preprocessing import clean"
   ]
  },
  {
   "cell_type": "code",
   "execution_count": 2,
   "id": "indoor-athens",
   "metadata": {},
   "outputs": [],
   "source": [
    "def unzipe_file_in_folder(dir_name, folder, extension, path_to_unzipe_files):\n",
    "    zip_files = os.listdir(dir_name)\n",
    "    os.chdir(dir_name) # change directory from working dir to dir with files\n",
    "\n",
    "    for item in zip_files: # loop through items in dir\n",
    "        if item.endswith(extension): # check for \".zip\" extension\n",
    "            file_name = os.path.abspath(item) # get full path of files\n",
    "            zip_ref = zipfile.ZipFile(file_name) # create zipfile object\n",
    "            zip_ref.extractall(path_to_unzipe_files) # extract file to dir\n",
    "            zip_ref.close() # close file\n",
    "            #os.remove(file_name) # delete zipped file    "
   ]
  },
  {
   "cell_type": "code",
   "execution_count": 3,
   "id": "important-distance",
   "metadata": {},
   "outputs": [],
   "source": [
    "def concate_file_valueds_frm_different_folder(dir_name, folder, extension, path_to_unzipe_files, file_to_find):\n",
    "    \n",
    "    unzipe_file_in_folder(dir_name, folder, extension, path_to_unzipe_files)\n",
    "    os.chdir(path_to_unzipe_files) # change directory from working dir to dir with files\n",
    "    variables = pd.DataFrame()\n",
    "\n",
    "    for dir_ in os.listdir('.'):\n",
    "        if os.path.isdir(dir_): \n",
    "            dir_name = os.path.abspath(dir_)\n",
    "            for folder in os.listdir(dir_name):\n",
    "                if file_to_find in folder:\n",
    "                    tmp_data = pd.read_csv(dir_name + '/' + folder, header=None)\n",
    "                    variables = pd.concat([variables, tmp_data], ignore_index=True)\n",
    "    variables.columns = ['variable_id', 'label', 'unit', 'min_value', 'max_value', 'alias']                \n",
    "    return variables"
   ]
  },
  {
   "cell_type": "code",
   "execution_count": 4,
   "id": "allied-trauma",
   "metadata": {},
   "outputs": [],
   "source": [
    "def replace_by_nan(data, char):\n",
    "    new_data = data.copy()\n",
    "    for col in new_data.columns:\n",
    "        new_data[col] = new_data[col].apply(lambda x: np.nan if x == char else x)\n",
    "    return new_data"
   ]
  },
  {
   "cell_type": "code",
   "execution_count": 31,
   "id": "employed-ghost",
   "metadata": {},
   "outputs": [],
   "source": [
    "def preprocessing_recordlinkage(data):\n",
    "    data_copy = data.copy()\n",
    "    for column in data.columns:\n",
    "        if isinstance(variables[column][0], str) :\n",
    "            data_copy[column] = recordlinkage.preprocessing.clean(data_copy[column], lowercase=True, strip_accents=None, remove_brackets=True, encoding='utf-8', decode_error='strict')\n",
    "    return data_copy"
   ]
  },
  {
   "cell_type": "markdown",
   "id": "automotive-truck",
   "metadata": {},
   "source": [
    "## **Reading files in zip folders**"
   ]
  },
  {
   "cell_type": "code",
   "execution_count": 5,
   "id": "colonial-intermediate",
   "metadata": {},
   "outputs": [],
   "source": [
    "folder = '2.MariaDB_PCB_Schema_DUMP_ZIP_Files_Fab=CROLFA_Eqt=END10_Day=2020-11-02_Hrs=19h17-20h22'\n",
    "dir_name = '../datas/usine_datas/' + folder\n",
    "extension = \".zip\"\n",
    "path_to_unzipe_files = '../../usine_datas_unziped/'+ folder\n",
    "file_to_find = 'PCB.Variables.dump'"
   ]
  },
  {
   "cell_type": "code",
   "execution_count": 6,
   "id": "economic-respect",
   "metadata": {},
   "outputs": [],
   "source": [
    "variables = concate_file_valueds_frm_different_folder(dir_name, folder, extension, path_to_unzipe_files, file_to_find)"
   ]
  },
  {
   "cell_type": "markdown",
   "id": "human-fountain",
   "metadata": {},
   "source": [
    "## **PREPROCESSING**"
   ]
  },
  {
   "cell_type": "code",
   "execution_count": 15,
   "id": "victorian-content",
   "metadata": {},
   "outputs": [],
   "source": [
    "variables = replace_by_nan(variables, '\\\\N')"
   ]
  },
  {
   "cell_type": "code",
   "execution_count": 32,
   "id": "incoming-divorce",
   "metadata": {},
   "outputs": [
    {
     "name": "stderr",
     "output_type": "stream",
     "text": [
      "/Users/marylin.pemodjo/.pyenv/versions/tdf_innovation_venv/lib/python3.7/site-packages/recordlinkage/preprocessing/cleaning.py:114: FutureWarning: The default value of regex will change from True to False in a future version.\n",
      "  s = s.str.replace(r'(\\[.*?\\]|\\(.*?\\)|\\{.*?\\})', '')\n",
      "/Users/marylin.pemodjo/.pyenv/versions/tdf_innovation_venv/lib/python3.7/site-packages/recordlinkage/preprocessing/cleaning.py:118: FutureWarning: The default value of regex will change from True to False in a future version.\n",
      "  s = s.str.replace(replace_by_none, '')\n",
      "/Users/marylin.pemodjo/.pyenv/versions/tdf_innovation_venv/lib/python3.7/site-packages/recordlinkage/preprocessing/cleaning.py:121: FutureWarning: The default value of regex will change from True to False in a future version.\n",
      "  s = s.str.replace(replace_by_whitespace, ' ')\n",
      "/Users/marylin.pemodjo/.pyenv/versions/tdf_innovation_venv/lib/python3.7/site-packages/recordlinkage/preprocessing/cleaning.py:124: FutureWarning: The default value of regex will change from True to False in a future version.\n",
      "  s = s.str.replace(r'\\s\\s+', ' ')\n"
     ]
    },
    {
     "data": {
      "text/html": [
       "<div>\n",
       "<style scoped>\n",
       "    .dataframe tbody tr th:only-of-type {\n",
       "        vertical-align: middle;\n",
       "    }\n",
       "\n",
       "    .dataframe tbody tr th {\n",
       "        vertical-align: top;\n",
       "    }\n",
       "\n",
       "    .dataframe thead th {\n",
       "        text-align: right;\n",
       "    }\n",
       "</style>\n",
       "<table border=\"1\" class=\"dataframe\">\n",
       "  <thead>\n",
       "    <tr style=\"text-align: right;\">\n",
       "      <th></th>\n",
       "      <th>variable_id</th>\n",
       "      <th>label</th>\n",
       "      <th>unit</th>\n",
       "      <th>min_value</th>\n",
       "      <th>max_value</th>\n",
       "      <th>alias</th>\n",
       "    </tr>\n",
       "  </thead>\n",
       "  <tbody>\n",
       "    <tr>\n",
       "      <th>0</th>\n",
       "      <td>55</td>\n",
       "      <td>ch step number</td>\n",
       "      <td>NaN</td>\n",
       "      <td>NaN</td>\n",
       "      <td>NaN</td>\n",
       "      <td>stepid</td>\n",
       "    </tr>\n",
       "    <tr>\n",
       "      <th>1</th>\n",
       "      <td>59</td>\n",
       "      <td>ch step number</td>\n",
       "      <td>NaN</td>\n",
       "      <td>NaN</td>\n",
       "      <td>NaN</td>\n",
       "      <td>stepid</td>\n",
       "    </tr>\n",
       "    <tr>\n",
       "      <th>2</th>\n",
       "      <td>61</td>\n",
       "      <td>ch step number</td>\n",
       "      <td>NaN</td>\n",
       "      <td>NaN</td>\n",
       "      <td>NaN</td>\n",
       "      <td>stepid</td>\n",
       "    </tr>\n",
       "    <tr>\n",
       "      <th>3</th>\n",
       "      <td>62</td>\n",
       "      <td>ch step number</td>\n",
       "      <td>NaN</td>\n",
       "      <td>NaN</td>\n",
       "      <td>NaN</td>\n",
       "      <td>stepid</td>\n",
       "    </tr>\n",
       "    <tr>\n",
       "      <th>4</th>\n",
       "      <td>63</td>\n",
       "      <td>ch step number</td>\n",
       "      <td>NaN</td>\n",
       "      <td>NaN</td>\n",
       "      <td>NaN</td>\n",
       "      <td>stepid</td>\n",
       "    </tr>\n",
       "    <tr>\n",
       "      <th>...</th>\n",
       "      <td>...</td>\n",
       "      <td>...</td>\n",
       "      <td>...</td>\n",
       "      <td>...</td>\n",
       "      <td>...</td>\n",
       "      <td>...</td>\n",
       "    </tr>\n",
       "    <tr>\n",
       "      <th>2044</th>\n",
       "      <td>338</td>\n",
       "      <td>cooldown chamber pressure 01</td>\n",
       "      <td>NaN</td>\n",
       "      <td>NaN</td>\n",
       "      <td>NaN</td>\n",
       "      <td>cooldown chamber pressure 01</td>\n",
       "    </tr>\n",
       "    <tr>\n",
       "      <th>2045</th>\n",
       "      <td>390</td>\n",
       "      <td>pvd dc current 08</td>\n",
       "      <td>NaN</td>\n",
       "      <td>NaN</td>\n",
       "      <td>NaN</td>\n",
       "      <td>current pvd</td>\n",
       "    </tr>\n",
       "    <tr>\n",
       "      <th>2046</th>\n",
       "      <td>395</td>\n",
       "      <td>pvd target voltage sense 08</td>\n",
       "      <td>NaN</td>\n",
       "      <td>NaN</td>\n",
       "      <td>NaN</td>\n",
       "      <td>voltage sense pvd target</td>\n",
       "    </tr>\n",
       "    <tr>\n",
       "      <th>2047</th>\n",
       "      <td>396</td>\n",
       "      <td>pvd target voltage sense 07</td>\n",
       "      <td>NaN</td>\n",
       "      <td>NaN</td>\n",
       "      <td>NaN</td>\n",
       "      <td>voltage sense pvd target</td>\n",
       "    </tr>\n",
       "    <tr>\n",
       "      <th>2048</th>\n",
       "      <td>397</td>\n",
       "      <td>pvd target voltage sense 06</td>\n",
       "      <td>NaN</td>\n",
       "      <td>NaN</td>\n",
       "      <td>NaN</td>\n",
       "      <td>voltage sense pvd target</td>\n",
       "    </tr>\n",
       "  </tbody>\n",
       "</table>\n",
       "<p>2049 rows × 6 columns</p>\n",
       "</div>"
      ],
      "text/plain": [
       "      variable_id                         label  unit  min_value  max_value  \\\n",
       "0              55                ch step number   NaN        NaN        NaN   \n",
       "1              59                ch step number   NaN        NaN        NaN   \n",
       "2              61                ch step number   NaN        NaN        NaN   \n",
       "3              62                ch step number   NaN        NaN        NaN   \n",
       "4              63                ch step number   NaN        NaN        NaN   \n",
       "...           ...                           ...   ...        ...        ...   \n",
       "2044          338  cooldown chamber pressure 01   NaN        NaN        NaN   \n",
       "2045          390             pvd dc current 08   NaN        NaN        NaN   \n",
       "2046          395   pvd target voltage sense 08   NaN        NaN        NaN   \n",
       "2047          396   pvd target voltage sense 07   NaN        NaN        NaN   \n",
       "2048          397   pvd target voltage sense 06   NaN        NaN        NaN   \n",
       "\n",
       "                             alias  \n",
       "0                           stepid  \n",
       "1                           stepid  \n",
       "2                           stepid  \n",
       "3                           stepid  \n",
       "4                           stepid  \n",
       "...                            ...  \n",
       "2044  cooldown chamber pressure 01  \n",
       "2045                   current pvd  \n",
       "2046      voltage sense pvd target  \n",
       "2047      voltage sense pvd target  \n",
       "2048      voltage sense pvd target  \n",
       "\n",
       "[2049 rows x 6 columns]"
      ]
     },
     "execution_count": 32,
     "metadata": {},
     "output_type": "execute_result"
    }
   ],
   "source": [
    "variables = preprocessing_recordlinkage(variables)"
   ]
  },
  {
   "cell_type": "markdown",
   "id": "desperate-cattle",
   "metadata": {},
   "source": [
    "**DEDUPLICATION**"
   ]
  },
  {
   "cell_type": "code",
   "execution_count": 33,
   "id": "front-forum",
   "metadata": {},
   "outputs": [],
   "source": [
    "indexer = recordlinkage.Index()\n",
    "indexer.block('alias')\n",
    "candidate_links = indexer.index(variables)"
   ]
  },
  {
   "cell_type": "code",
   "execution_count": 34,
   "id": "adverse-transport",
   "metadata": {},
   "outputs": [],
   "source": [
    "compare_cl = recordlinkage.Compare()\n",
    "\n",
    "compare_cl.string('label', 'label', label='label', method='levenshtein')\n",
    "features = compare_cl.compute(candidate_links, variables)"
   ]
  },
  {
   "cell_type": "code",
   "execution_count": 39,
   "id": "future-provision",
   "metadata": {},
   "outputs": [],
   "source": [
    "def selected_pairs_values(list_tuple, datas):\n",
    "    res = pd.DataFrame(columns=datas.columns)\n",
    "    for tpl in list_tuple.tolist():        \n",
    "        tmp = datas.iloc[datas.index.isin([tpl[0]])]\n",
    "        tmp2 = datas.iloc[datas.index.isin([tpl[1]])]\n",
    "        res = pd.concat([res, tmp, tmp2])\n",
    "                                              \n",
    "    return res "
   ]
  },
  {
   "cell_type": "code",
   "execution_count": 40,
   "id": "interracial-playback",
   "metadata": {},
   "outputs": [
    {
     "data": {
      "text/html": [
       "<div>\n",
       "<style scoped>\n",
       "    .dataframe tbody tr th:only-of-type {\n",
       "        vertical-align: middle;\n",
       "    }\n",
       "\n",
       "    .dataframe tbody tr th {\n",
       "        vertical-align: top;\n",
       "    }\n",
       "\n",
       "    .dataframe thead th {\n",
       "        text-align: right;\n",
       "    }\n",
       "</style>\n",
       "<table border=\"1\" class=\"dataframe\">\n",
       "  <thead>\n",
       "    <tr style=\"text-align: right;\">\n",
       "      <th></th>\n",
       "      <th>variable_id</th>\n",
       "      <th>label</th>\n",
       "      <th>unit</th>\n",
       "      <th>min_value</th>\n",
       "      <th>max_value</th>\n",
       "      <th>alias</th>\n",
       "    </tr>\n",
       "  </thead>\n",
       "  <tbody>\n",
       "    <tr>\n",
       "      <th>1</th>\n",
       "      <td>59</td>\n",
       "      <td>CH STEP NUMBER (4)</td>\n",
       "      <td>NaN</td>\n",
       "      <td>NaN</td>\n",
       "      <td>NaN</td>\n",
       "      <td>StepID</td>\n",
       "    </tr>\n",
       "    <tr>\n",
       "      <th>0</th>\n",
       "      <td>55</td>\n",
       "      <td>CH STEP NUMBER (0)</td>\n",
       "      <td>NaN</td>\n",
       "      <td>NaN</td>\n",
       "      <td>NaN</td>\n",
       "      <td>StepID</td>\n",
       "    </tr>\n",
       "    <tr>\n",
       "      <th>2</th>\n",
       "      <td>61</td>\n",
       "      <td>CH STEP NUMBER (6)</td>\n",
       "      <td>NaN</td>\n",
       "      <td>NaN</td>\n",
       "      <td>NaN</td>\n",
       "      <td>StepID</td>\n",
       "    </tr>\n",
       "    <tr>\n",
       "      <th>0</th>\n",
       "      <td>55</td>\n",
       "      <td>CH STEP NUMBER (0)</td>\n",
       "      <td>NaN</td>\n",
       "      <td>NaN</td>\n",
       "      <td>NaN</td>\n",
       "      <td>StepID</td>\n",
       "    </tr>\n",
       "    <tr>\n",
       "      <th>2</th>\n",
       "      <td>61</td>\n",
       "      <td>CH STEP NUMBER (6)</td>\n",
       "      <td>NaN</td>\n",
       "      <td>NaN</td>\n",
       "      <td>NaN</td>\n",
       "      <td>StepID</td>\n",
       "    </tr>\n",
       "    <tr>\n",
       "      <th>...</th>\n",
       "      <td>...</td>\n",
       "      <td>...</td>\n",
       "      <td>...</td>\n",
       "      <td>...</td>\n",
       "      <td>...</td>\n",
       "      <td>...</td>\n",
       "    </tr>\n",
       "    <tr>\n",
       "      <th>1785</th>\n",
       "      <td>402</td>\n",
       "      <td>chamber Bakeout Current 07</td>\n",
       "      <td>NaN</td>\n",
       "      <td>NaN</td>\n",
       "      <td>NaN</td>\n",
       "      <td>Current_Bakeout_Chamber</td>\n",
       "    </tr>\n",
       "    <tr>\n",
       "      <th>1995</th>\n",
       "      <td>400</td>\n",
       "      <td>chamber Bakeout Current 09</td>\n",
       "      <td>NaN</td>\n",
       "      <td>NaN</td>\n",
       "      <td>NaN</td>\n",
       "      <td>Current_Bakeout_Chamber</td>\n",
       "    </tr>\n",
       "    <tr>\n",
       "      <th>1820</th>\n",
       "      <td>402</td>\n",
       "      <td>chamber Bakeout Current 07</td>\n",
       "      <td>NaN</td>\n",
       "      <td>NaN</td>\n",
       "      <td>NaN</td>\n",
       "      <td>Current_Bakeout_Chamber</td>\n",
       "    </tr>\n",
       "    <tr>\n",
       "      <th>1995</th>\n",
       "      <td>400</td>\n",
       "      <td>chamber Bakeout Current 09</td>\n",
       "      <td>NaN</td>\n",
       "      <td>NaN</td>\n",
       "      <td>NaN</td>\n",
       "      <td>Current_Bakeout_Chamber</td>\n",
       "    </tr>\n",
       "    <tr>\n",
       "      <th>1881</th>\n",
       "      <td>400</td>\n",
       "      <td>chamber Bakeout Current 09</td>\n",
       "      <td>NaN</td>\n",
       "      <td>NaN</td>\n",
       "      <td>NaN</td>\n",
       "      <td>Current_Bakeout_Chamber</td>\n",
       "    </tr>\n",
       "  </tbody>\n",
       "</table>\n",
       "<p>237992 rows × 6 columns</p>\n",
       "</div>"
      ],
      "text/plain": [
       "     variable_id                       label unit min_value max_value  \\\n",
       "1             59          CH STEP NUMBER (4)  NaN       NaN       NaN   \n",
       "0             55          CH STEP NUMBER (0)  NaN       NaN       NaN   \n",
       "2             61          CH STEP NUMBER (6)  NaN       NaN       NaN   \n",
       "0             55          CH STEP NUMBER (0)  NaN       NaN       NaN   \n",
       "2             61          CH STEP NUMBER (6)  NaN       NaN       NaN   \n",
       "...          ...                         ...  ...       ...       ...   \n",
       "1785         402  chamber Bakeout Current 07  NaN       NaN       NaN   \n",
       "1995         400  chamber Bakeout Current 09  NaN       NaN       NaN   \n",
       "1820         402  chamber Bakeout Current 07  NaN       NaN       NaN   \n",
       "1995         400  chamber Bakeout Current 09  NaN       NaN       NaN   \n",
       "1881         400  chamber Bakeout Current 09  NaN       NaN       NaN   \n",
       "\n",
       "                        alias  \n",
       "1                      StepID  \n",
       "0                      StepID  \n",
       "2                      StepID  \n",
       "0                      StepID  \n",
       "2                      StepID  \n",
       "...                       ...  \n",
       "1785  Current_Bakeout_Chamber  \n",
       "1995  Current_Bakeout_Chamber  \n",
       "1820  Current_Bakeout_Chamber  \n",
       "1995  Current_Bakeout_Chamber  \n",
       "1881  Current_Bakeout_Chamber  \n",
       "\n",
       "[237992 rows x 6 columns]"
      ]
     },
     "execution_count": 40,
     "metadata": {},
     "output_type": "execute_result"
    }
   ],
   "source": [
    "selected_pairs_values(features.index, variables)"
   ]
  },
  {
   "cell_type": "markdown",
   "id": "significant-disco",
   "metadata": {},
   "source": [
    "### **CLASSIFICATION**"
   ]
  },
  {
   "cell_type": "code",
   "execution_count": 43,
   "id": "bound-functionality",
   "metadata": {},
   "outputs": [],
   "source": [
    "classifier = recordlinkage.KMeansClassifier()"
   ]
  },
  {
   "cell_type": "code",
   "execution_count": 44,
   "id": "speaking-projector",
   "metadata": {},
   "outputs": [
    {
     "data": {
      "text/plain": [
       "MultiIndex([(   1,    0),\n",
       "            (   2,    0),\n",
       "            (   2,    1),\n",
       "            (   3,    0),\n",
       "            (   3,    1),\n",
       "            (   3,    2),\n",
       "            (   4,    0),\n",
       "            (   4,    1),\n",
       "            (   4,    2),\n",
       "            (   4,    3),\n",
       "            ...\n",
       "            (1995, 1417),\n",
       "            (1995, 1477),\n",
       "            (1995, 1537),\n",
       "            (1995, 1598),\n",
       "            (1995, 1644),\n",
       "            (1995, 1704),\n",
       "            (1995, 1750),\n",
       "            (1995, 1785),\n",
       "            (1995, 1820),\n",
       "            (1995, 1881)],\n",
       "           length=115633)"
      ]
     },
     "execution_count": 44,
     "metadata": {},
     "output_type": "execute_result"
    }
   ],
   "source": [
    "classifier.fit_predict(features)"
   ]
  },
  {
   "cell_type": "markdown",
   "id": "adjacent-cookbook",
   "metadata": {},
   "source": [
    "**DROP DOUBLON**"
   ]
  },
  {
   "cell_type": "code",
   "execution_count": null,
   "id": "right-quality",
   "metadata": {},
   "outputs": [],
   "source": [
    "#features_multiindex_list = list(map(list, zip(*features.index.to_list())))\n",
    "#features_first_index = set(features_multiindex_list[0])\n",
    "#features_second_index = set(features_multiindex_list[1])\n",
    "\n",
    "#original_index = set(features_first_index) - set(features_second_index)"
   ]
  },
  {
   "cell_type": "code",
   "execution_count": null,
   "id": "scenic-nickel",
   "metadata": {},
   "outputs": [],
   "source": [
    "#variables.iloc[variables.index.isin(original_index)]"
   ]
  }
 ],
 "metadata": {
  "kernelspec": {
   "display_name": "tdf_innovation_venv",
   "language": "python",
   "name": "tdf_innovation_venv"
  },
  "language_info": {
   "codemirror_mode": {
    "name": "ipython",
    "version": 3
   },
   "file_extension": ".py",
   "mimetype": "text/x-python",
   "name": "python",
   "nbconvert_exporter": "python",
   "pygments_lexer": "ipython3",
   "version": "3.7.10"
  }
 },
 "nbformat": 4,
 "nbformat_minor": 5
}
