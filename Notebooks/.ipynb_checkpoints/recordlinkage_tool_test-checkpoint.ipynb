{
 "cells": [
  {
   "cell_type": "markdown",
   "id": "satisfied-charger",
   "metadata": {},
   "source": [
    "# **RECORDLINKAGE  TOOL**"
   ]
  },
  {
   "cell_type": "markdown",
   "id": "million-stand",
   "metadata": {},
   "source": [
    "### Required imports"
   ]
  },
  {
   "cell_type": "code",
   "execution_count": 1,
   "id": "exciting-lighter",
   "metadata": {},
   "outputs": [
    {
     "ename": "RuntimeError",
     "evalue": "module compiled against API version 0xe but this version of numpy is 0xd",
     "output_type": "error",
     "traceback": [
      "\u001b[0;31m---------------------------------------------------------------------------\u001b[0m",
      "\u001b[0;31mRuntimeError\u001b[0m                              Traceback (most recent call last)",
      "\u001b[0;31mRuntimeError\u001b[0m: module compiled against API version 0xe but this version of numpy is 0xd"
     ]
    }
   ],
   "source": [
    "import pandas as pd\n",
    "import numpy as np\n",
    "import recordlinkage\n",
    "import interpret_community\n",
    "import mlxtend\n",
    "import random\n",
    "import pickle\n",
    "\n",
    "from sklearn.model_selection import train_test_split\n",
    "from mlxtend.plotting import plot_confusion_matrix\n",
    "from recordlinkage import datasets"
   ]
  },
  {
   "cell_type": "markdown",
   "id": "dedicated-supply",
   "metadata": {},
   "source": [
    "\n",
    "### Loading datasets "
   ]
  },
  {
   "cell_type": "code",
   "execution_count": 2,
   "id": "clean-missile",
   "metadata": {},
   "outputs": [],
   "source": [
    "first_febrl_dataset, second_febrl_dataset = datasets.load_febrl4(return_links=False)"
   ]
  },
  {
   "cell_type": "code",
   "execution_count": 3,
   "id": "enabling-processing",
   "metadata": {},
   "outputs": [],
   "source": [
    "indexes_frst_febrl_dataset = sorted(first_febrl_dataset.index)\n",
    "indexes_scd_febrl_dataset = sorted(second_febrl_dataset.index)\n",
    "tuples_true_links = list(zip(indexes_frst_febrl_dataset, indexes_scd_febrl_dataset))\n",
    "true_links = pd.MultiIndex.from_tuples(tuples_true_links, names=('org_data', 'dpl_data'))"
   ]
  },
  {
   "cell_type": "code",
   "execution_count": 4,
   "id": "scientific-condition",
   "metadata": {},
   "outputs": [
    {
     "data": {
      "text/html": [
       "<div>\n",
       "<style scoped>\n",
       "    .dataframe tbody tr th:only-of-type {\n",
       "        vertical-align: middle;\n",
       "    }\n",
       "\n",
       "    .dataframe tbody tr th {\n",
       "        vertical-align: top;\n",
       "    }\n",
       "\n",
       "    .dataframe thead th {\n",
       "        text-align: right;\n",
       "    }\n",
       "</style>\n",
       "<table border=\"1\" class=\"dataframe\">\n",
       "  <thead>\n",
       "    <tr style=\"text-align: right;\">\n",
       "      <th></th>\n",
       "      <th>given_name</th>\n",
       "      <th>surname</th>\n",
       "      <th>street_number</th>\n",
       "      <th>address_1</th>\n",
       "      <th>address_2</th>\n",
       "      <th>suburb</th>\n",
       "      <th>postcode</th>\n",
       "      <th>state</th>\n",
       "      <th>date_of_birth</th>\n",
       "      <th>soc_sec_id</th>\n",
       "    </tr>\n",
       "    <tr>\n",
       "      <th>rec_id</th>\n",
       "      <th></th>\n",
       "      <th></th>\n",
       "      <th></th>\n",
       "      <th></th>\n",
       "      <th></th>\n",
       "      <th></th>\n",
       "      <th></th>\n",
       "      <th></th>\n",
       "      <th></th>\n",
       "      <th></th>\n",
       "    </tr>\n",
       "  </thead>\n",
       "  <tbody>\n",
       "    <tr>\n",
       "      <th>rec-1070-org</th>\n",
       "      <td>michaela</td>\n",
       "      <td>neumann</td>\n",
       "      <td>8</td>\n",
       "      <td>stanley street</td>\n",
       "      <td>miami</td>\n",
       "      <td>winston hills</td>\n",
       "      <td>4223</td>\n",
       "      <td>nsw</td>\n",
       "      <td>19151111</td>\n",
       "      <td>5304218</td>\n",
       "    </tr>\n",
       "    <tr>\n",
       "      <th>rec-1016-org</th>\n",
       "      <td>courtney</td>\n",
       "      <td>painter</td>\n",
       "      <td>12</td>\n",
       "      <td>pinkerton circuit</td>\n",
       "      <td>bega flats</td>\n",
       "      <td>richlands</td>\n",
       "      <td>4560</td>\n",
       "      <td>vic</td>\n",
       "      <td>19161214</td>\n",
       "      <td>4066625</td>\n",
       "    </tr>\n",
       "    <tr>\n",
       "      <th>rec-4405-org</th>\n",
       "      <td>charles</td>\n",
       "      <td>green</td>\n",
       "      <td>38</td>\n",
       "      <td>salkauskas crescent</td>\n",
       "      <td>kela</td>\n",
       "      <td>dapto</td>\n",
       "      <td>4566</td>\n",
       "      <td>nsw</td>\n",
       "      <td>19480930</td>\n",
       "      <td>4365168</td>\n",
       "    </tr>\n",
       "    <tr>\n",
       "      <th>rec-1288-org</th>\n",
       "      <td>vanessa</td>\n",
       "      <td>parr</td>\n",
       "      <td>905</td>\n",
       "      <td>macquoid place</td>\n",
       "      <td>broadbridge manor</td>\n",
       "      <td>south grafton</td>\n",
       "      <td>2135</td>\n",
       "      <td>sa</td>\n",
       "      <td>19951119</td>\n",
       "      <td>9239102</td>\n",
       "    </tr>\n",
       "    <tr>\n",
       "      <th>rec-3585-org</th>\n",
       "      <td>mikayla</td>\n",
       "      <td>malloney</td>\n",
       "      <td>37</td>\n",
       "      <td>randwick road</td>\n",
       "      <td>avalind</td>\n",
       "      <td>hoppers crossing</td>\n",
       "      <td>4552</td>\n",
       "      <td>vic</td>\n",
       "      <td>19860208</td>\n",
       "      <td>7207688</td>\n",
       "    </tr>\n",
       "  </tbody>\n",
       "</table>\n",
       "</div>"
      ],
      "text/plain": [
       "             given_name   surname street_number            address_1  \\\n",
       "rec_id                                                                 \n",
       "rec-1070-org   michaela   neumann             8       stanley street   \n",
       "rec-1016-org   courtney   painter            12    pinkerton circuit   \n",
       "rec-4405-org    charles     green            38  salkauskas crescent   \n",
       "rec-1288-org    vanessa      parr           905       macquoid place   \n",
       "rec-3585-org    mikayla  malloney            37        randwick road   \n",
       "\n",
       "                      address_2            suburb postcode state  \\\n",
       "rec_id                                                             \n",
       "rec-1070-org              miami     winston hills     4223   nsw   \n",
       "rec-1016-org         bega flats         richlands     4560   vic   \n",
       "rec-4405-org               kela             dapto     4566   nsw   \n",
       "rec-1288-org  broadbridge manor     south grafton     2135    sa   \n",
       "rec-3585-org            avalind  hoppers crossing     4552   vic   \n",
       "\n",
       "             date_of_birth soc_sec_id  \n",
       "rec_id                                 \n",
       "rec-1070-org      19151111    5304218  \n",
       "rec-1016-org      19161214    4066625  \n",
       "rec-4405-org      19480930    4365168  \n",
       "rec-1288-org      19951119    9239102  \n",
       "rec-3585-org      19860208    7207688  "
      ]
     },
     "execution_count": 4,
     "metadata": {},
     "output_type": "execute_result"
    }
   ],
   "source": [
    "first_febrl_dataset.head()"
   ]
  },
  {
   "cell_type": "code",
   "execution_count": 5,
   "id": "eleven-conditioning",
   "metadata": {},
   "outputs": [
    {
     "data": {
      "text/html": [
       "<div>\n",
       "<style scoped>\n",
       "    .dataframe tbody tr th:only-of-type {\n",
       "        vertical-align: middle;\n",
       "    }\n",
       "\n",
       "    .dataframe tbody tr th {\n",
       "        vertical-align: top;\n",
       "    }\n",
       "\n",
       "    .dataframe thead th {\n",
       "        text-align: right;\n",
       "    }\n",
       "</style>\n",
       "<table border=\"1\" class=\"dataframe\">\n",
       "  <thead>\n",
       "    <tr style=\"text-align: right;\">\n",
       "      <th></th>\n",
       "      <th>given_name</th>\n",
       "      <th>surname</th>\n",
       "      <th>street_number</th>\n",
       "      <th>address_1</th>\n",
       "      <th>address_2</th>\n",
       "      <th>suburb</th>\n",
       "      <th>postcode</th>\n",
       "      <th>state</th>\n",
       "      <th>date_of_birth</th>\n",
       "      <th>soc_sec_id</th>\n",
       "    </tr>\n",
       "    <tr>\n",
       "      <th>rec_id</th>\n",
       "      <th></th>\n",
       "      <th></th>\n",
       "      <th></th>\n",
       "      <th></th>\n",
       "      <th></th>\n",
       "      <th></th>\n",
       "      <th></th>\n",
       "      <th></th>\n",
       "      <th></th>\n",
       "      <th></th>\n",
       "    </tr>\n",
       "  </thead>\n",
       "  <tbody>\n",
       "    <tr>\n",
       "      <th>rec-561-dup-0</th>\n",
       "      <td>elton</td>\n",
       "      <td>NaN</td>\n",
       "      <td>3</td>\n",
       "      <td>light setreet</td>\n",
       "      <td>pinehill</td>\n",
       "      <td>windermere</td>\n",
       "      <td>3212</td>\n",
       "      <td>vic</td>\n",
       "      <td>19651013</td>\n",
       "      <td>1551941</td>\n",
       "    </tr>\n",
       "    <tr>\n",
       "      <th>rec-2642-dup-0</th>\n",
       "      <td>mitchell</td>\n",
       "      <td>maxon</td>\n",
       "      <td>47</td>\n",
       "      <td>edkins street</td>\n",
       "      <td>lochaoair</td>\n",
       "      <td>north ryde</td>\n",
       "      <td>3355</td>\n",
       "      <td>nsw</td>\n",
       "      <td>19390212</td>\n",
       "      <td>8859999</td>\n",
       "    </tr>\n",
       "    <tr>\n",
       "      <th>rec-608-dup-0</th>\n",
       "      <td>NaN</td>\n",
       "      <td>white</td>\n",
       "      <td>72</td>\n",
       "      <td>lambrigg street</td>\n",
       "      <td>kelgoola</td>\n",
       "      <td>broadbeach waters</td>\n",
       "      <td>3159</td>\n",
       "      <td>vic</td>\n",
       "      <td>19620216</td>\n",
       "      <td>9731855</td>\n",
       "    </tr>\n",
       "    <tr>\n",
       "      <th>rec-3239-dup-0</th>\n",
       "      <td>elk i</td>\n",
       "      <td>menzies</td>\n",
       "      <td>1</td>\n",
       "      <td>lyster place</td>\n",
       "      <td>NaN</td>\n",
       "      <td>northwood</td>\n",
       "      <td>2585</td>\n",
       "      <td>vic</td>\n",
       "      <td>19980624</td>\n",
       "      <td>4970481</td>\n",
       "    </tr>\n",
       "    <tr>\n",
       "      <th>rec-2886-dup-0</th>\n",
       "      <td>NaN</td>\n",
       "      <td>garanggar</td>\n",
       "      <td>NaN</td>\n",
       "      <td>may maxwell crescent</td>\n",
       "      <td>springettst arcade</td>\n",
       "      <td>forest hill</td>\n",
       "      <td>2342</td>\n",
       "      <td>vic</td>\n",
       "      <td>19921016</td>\n",
       "      <td>1366884</td>\n",
       "    </tr>\n",
       "  </tbody>\n",
       "</table>\n",
       "</div>"
      ],
      "text/plain": [
       "               given_name    surname street_number             address_1  \\\n",
       "rec_id                                                                     \n",
       "rec-561-dup-0       elton        NaN             3         light setreet   \n",
       "rec-2642-dup-0   mitchell      maxon            47         edkins street   \n",
       "rec-608-dup-0         NaN      white            72       lambrigg street   \n",
       "rec-3239-dup-0      elk i    menzies             1          lyster place   \n",
       "rec-2886-dup-0        NaN  garanggar           NaN  may maxwell crescent   \n",
       "\n",
       "                         address_2             suburb postcode state  \\\n",
       "rec_id                                                                 \n",
       "rec-561-dup-0             pinehill         windermere     3212   vic   \n",
       "rec-2642-dup-0           lochaoair         north ryde     3355   nsw   \n",
       "rec-608-dup-0             kelgoola  broadbeach waters     3159   vic   \n",
       "rec-3239-dup-0                 NaN          northwood     2585   vic   \n",
       "rec-2886-dup-0  springettst arcade        forest hill     2342   vic   \n",
       "\n",
       "               date_of_birth soc_sec_id  \n",
       "rec_id                                   \n",
       "rec-561-dup-0       19651013    1551941  \n",
       "rec-2642-dup-0      19390212    8859999  \n",
       "rec-608-dup-0       19620216    9731855  \n",
       "rec-3239-dup-0      19980624    4970481  \n",
       "rec-2886-dup-0      19921016    1366884  "
      ]
     },
     "execution_count": 5,
     "metadata": {},
     "output_type": "execute_result"
    }
   ],
   "source": [
    "second_febrl_dataset.head()"
   ]
  },
  {
   "cell_type": "markdown",
   "id": "descending-vehicle",
   "metadata": {},
   "source": [
    "## **ETAPE DE PREPROCESSING**"
   ]
  },
  {
   "cell_type": "raw",
   "id": "unlike-visit",
   "metadata": {},
   "source": [
    "Le preprocessing proposé par l'outil devra être compléte par des étapes de préprocessing en fonction du use case. On ne l'utilise pas ici car les données utilisées sont déjà nettoyées."
   ]
  },
  {
   "cell_type": "markdown",
   "id": "valuable-housing",
   "metadata": {},
   "source": [
    "## **ETAPE D'INDEXING**"
   ]
  },
  {
   "cell_type": "markdown",
   "id": "greek-supplier",
   "metadata": {},
   "source": [
    "L'indexation n'est faisable que sur **un** ou **deux** jeu de données. Il propose 4 méthodes d'indexations:\n",
    "- Full : renvoie toutes les combinaisons de paires possibles\n",
    "- Block : renvoie tous les éléments qui concordent par rapport aux variables données en entrée \n",
    "- SortedNeighbourhood : renvoie tous les éléments qui concordent par rapport aux variables données en entrée et celles dans leur voisinnage\n",
    "- Random : renvoi des paires crées aléatoirement\n",
    "\n",
    "Ici, nous testons la méthode du block en utilisant les colonnes 'given_name', 'address_1' et 'date_of_birth'. Les candidats seront filtrés pour n'inclure que ceux dont les valeurs sont égales sur une ou plusieurs de ces colonnes."
   ]
  },
  {
   "cell_type": "markdown",
   "id": "endangered-cleveland",
   "metadata": {},
   "source": [
    "L'étape d'indexation est cruciale. Plus on donne entrée des informations précises, meilleure est la selection de paires de candidats à comparer."
   ]
  },
  {
   "cell_type": "markdown",
   "id": "sunrise-behalf",
   "metadata": {},
   "source": [
    "Pour évaluer les résultats de la méthode d'indexation, nous regardons deux élements:\n",
    "- le pourcentage de paires dupliquées detctées par la méthode d'indexation utilisée\n",
    "- la performance de la méthode en fonction du nombre de blocking key données en entrée\n"
   ]
  },
  {
   "cell_type": "markdown",
   "id": "rubber-islam",
   "metadata": {},
   "source": [
    "### **Méthode du block**"
   ]
  },
  {
   "cell_type": "code",
   "execution_count": 21,
   "id": "differential-directive",
   "metadata": {},
   "outputs": [],
   "source": [
    "def test_block_indexing(blocking_key: list):\n",
    "    indexer = recordlinkage.Index()\n",
    "    for column in blocking_key:\n",
    "        indexer.block(on=column)\n",
    "        pairs_to_comp = indexer.index(first_febrl_dataset, second_febrl_dataset)\n",
    "        real_link_found = pairs_to_comp & true_links\n",
    "        print(\"Nombre de paires sélectionnées: {}\".format(len(pairs_to_comp)))\n",
    "        print(\"Pourcentage de vraies paires selctionnées: {}%.\".format(len(real_link_found)/len(true_links)*100))\n",
    "        \n",
    "    return pairs_to_comp"
   ]
  },
  {
   "cell_type": "code",
   "execution_count": 22,
   "id": "binding-cambodia",
   "metadata": {},
   "outputs": [
    {
     "name": "stderr",
     "output_type": "stream",
     "text": [
      "Index.__and__ operating as a set operation is deprecated, in the future this will be a logical operation matching Series.__and__.  Use index.intersection(other) instead\n"
     ]
    },
    {
     "name": "stdout",
     "output_type": "stream",
     "text": [
      "Nombre de paires sélectionnées: 77249\n",
      "Pourcentage de vraies paires selctionnées: 65.74%.\n"
     ]
    },
    {
     "name": "stderr",
     "output_type": "stream",
     "text": [
      "Index.__and__ operating as a set operation is deprecated, in the future this will be a logical operation matching Series.__and__.  Use index.intersection(other) instead\n"
     ]
    },
    {
     "name": "stdout",
     "output_type": "stream",
     "text": [
      "Nombre de paires sélectionnées: 85758\n",
      "Pourcentage de vraies paires selctionnées: 87.42%.\n",
      "Nombre de paires sélectionnées: 86959\n",
      "Pourcentage de vraies paires selctionnées: 98.72%.\n"
     ]
    },
    {
     "name": "stderr",
     "output_type": "stream",
     "text": [
      "Index.__and__ operating as a set operation is deprecated, in the future this will be a logical operation matching Series.__and__.  Use index.intersection(other) instead\n"
     ]
    }
   ],
   "source": [
    "pairs_to_comp_block = test_block_indexing(['given_name', 'address_1', 'date_of_birth'])"
   ]
  },
  {
   "cell_type": "markdown",
   "id": "dedicated-country",
   "metadata": {},
   "source": [
    "**Ressemblance des paires selectionnées**"
   ]
  },
  {
   "cell_type": "code",
   "execution_count": 123,
   "id": "retired-poster",
   "metadata": {},
   "outputs": [],
   "source": [
    "def random_color():\n",
    "    rgbl=['yellow','red','green']\n",
    "    return random.choice(rgbl)\n",
    "\n",
    "def selected_pairs_values(list_tuple:list):\n",
    "    selected_pairs_values_df = pd.DataFrame(columns=first_febrl_dataset.columns)\n",
    "    for tpl in list_tuple:\n",
    "        first_candidate = first_febrl_dataset.iloc[first_febrl_dataset.index.isin([tpl[0]])]\n",
    "        second_candidate = second_febrl_dataset.iloc[second_febrl_dataset.index.isin([tpl[1]])]\n",
    "        concat_df = pd.concat([first_candidate, second_candidate])\n",
    "        #candidates_df = candidates_df.style.applymap(lambda x: 'background-color: yellow' if True else '')\n",
    "        \n",
    "        selected_pairs_values_df = pd.concat([selected_pairs_values_df, concat_df])\n",
    "    return selected_pairs_values_df \n"
   ]
  },
  {
   "cell_type": "code",
   "execution_count": 126,
   "id": "dominant-athens",
   "metadata": {
    "scrolled": true
   },
   "outputs": [
    {
     "data": {
      "text/html": [
       "<div>\n",
       "<style scoped>\n",
       "    .dataframe tbody tr th:only-of-type {\n",
       "        vertical-align: middle;\n",
       "    }\n",
       "\n",
       "    .dataframe tbody tr th {\n",
       "        vertical-align: top;\n",
       "    }\n",
       "\n",
       "    .dataframe thead th {\n",
       "        text-align: right;\n",
       "    }\n",
       "</style>\n",
       "<table border=\"1\" class=\"dataframe\">\n",
       "  <thead>\n",
       "    <tr style=\"text-align: right;\">\n",
       "      <th></th>\n",
       "      <th>given_name</th>\n",
       "      <th>surname</th>\n",
       "      <th>street_number</th>\n",
       "      <th>address_1</th>\n",
       "      <th>address_2</th>\n",
       "      <th>suburb</th>\n",
       "      <th>postcode</th>\n",
       "      <th>state</th>\n",
       "      <th>date_of_birth</th>\n",
       "      <th>soc_sec_id</th>\n",
       "    </tr>\n",
       "  </thead>\n",
       "  <tbody>\n",
       "    <tr>\n",
       "      <th>rec-0-org</th>\n",
       "      <td>rachael</td>\n",
       "      <td>dent</td>\n",
       "      <td>1</td>\n",
       "      <td>knox street</td>\n",
       "      <td>lakewood estate</td>\n",
       "      <td>byford</td>\n",
       "      <td>4129</td>\n",
       "      <td>vic</td>\n",
       "      <td>19280722</td>\n",
       "      <td>1683994</td>\n",
       "    </tr>\n",
       "    <tr>\n",
       "      <th>rec-0-dup-0</th>\n",
       "      <td>rachael</td>\n",
       "      <td>dent</td>\n",
       "      <td>4</td>\n",
       "      <td>knox street</td>\n",
       "      <td>lakewood estate</td>\n",
       "      <td>byford</td>\n",
       "      <td>4129</td>\n",
       "      <td>vic</td>\n",
       "      <td>19280722</td>\n",
       "      <td>1683994</td>\n",
       "    </tr>\n",
       "    <tr>\n",
       "      <th>rec-0-org</th>\n",
       "      <td>rachael</td>\n",
       "      <td>dent</td>\n",
       "      <td>1</td>\n",
       "      <td>knox street</td>\n",
       "      <td>lakewood estate</td>\n",
       "      <td>byford</td>\n",
       "      <td>4129</td>\n",
       "      <td>vic</td>\n",
       "      <td>19280722</td>\n",
       "      <td>1683994</td>\n",
       "    </tr>\n",
       "    <tr>\n",
       "      <th>rec-1230-dup-0</th>\n",
       "      <td>kate</td>\n",
       "      <td>tantschev</td>\n",
       "      <td>99</td>\n",
       "      <td>knox street</td>\n",
       "      <td>fronda</td>\n",
       "      <td>NaN</td>\n",
       "      <td>5148</td>\n",
       "      <td>qld</td>\n",
       "      <td>19870422</td>\n",
       "      <td>6536232</td>\n",
       "    </tr>\n",
       "    <tr>\n",
       "      <th>rec-0-org</th>\n",
       "      <td>rachael</td>\n",
       "      <td>dent</td>\n",
       "      <td>1</td>\n",
       "      <td>knox street</td>\n",
       "      <td>lakewood estate</td>\n",
       "      <td>byford</td>\n",
       "      <td>4129</td>\n",
       "      <td>vic</td>\n",
       "      <td>19280722</td>\n",
       "      <td>1683994</td>\n",
       "    </tr>\n",
       "    <tr>\n",
       "      <th>rec-2323-dup-0</th>\n",
       "      <td>rachael</td>\n",
       "      <td>yallop</td>\n",
       "      <td>5</td>\n",
       "      <td>fullagar crescent</td>\n",
       "      <td>rsde 668</td>\n",
       "      <td>been leigh</td>\n",
       "      <td>4860</td>\n",
       "      <td>qld</td>\n",
       "      <td>19760214</td>\n",
       "      <td>1296128</td>\n",
       "    </tr>\n",
       "    <tr>\n",
       "      <th>rec-0-org</th>\n",
       "      <td>rachael</td>\n",
       "      <td>dent</td>\n",
       "      <td>1</td>\n",
       "      <td>knox street</td>\n",
       "      <td>lakewood estate</td>\n",
       "      <td>byford</td>\n",
       "      <td>4129</td>\n",
       "      <td>vic</td>\n",
       "      <td>19280722</td>\n",
       "      <td>1683994</td>\n",
       "    </tr>\n",
       "    <tr>\n",
       "      <th>rec-254-dup-0</th>\n",
       "      <td>ebony</td>\n",
       "      <td>webb</td>\n",
       "      <td>21</td>\n",
       "      <td>knox street</td>\n",
       "      <td>crestwood</td>\n",
       "      <td>higgate</td>\n",
       "      <td>2196</td>\n",
       "      <td>NaN</td>\n",
       "      <td>19001231</td>\n",
       "      <td>5875656</td>\n",
       "    </tr>\n",
       "  </tbody>\n",
       "</table>\n",
       "</div>"
      ],
      "text/plain": [
       "               given_name    surname street_number          address_1  \\\n",
       "rec-0-org         rachael       dent             1        knox street   \n",
       "rec-0-dup-0       rachael       dent             4        knox street   \n",
       "rec-0-org         rachael       dent             1        knox street   \n",
       "rec-1230-dup-0       kate  tantschev            99        knox street   \n",
       "rec-0-org         rachael       dent             1        knox street   \n",
       "rec-2323-dup-0    rachael     yallop             5  fullagar crescent   \n",
       "rec-0-org         rachael       dent             1        knox street   \n",
       "rec-254-dup-0       ebony       webb            21        knox street   \n",
       "\n",
       "                      address_2      suburb postcode state date_of_birth  \\\n",
       "rec-0-org       lakewood estate      byford     4129   vic      19280722   \n",
       "rec-0-dup-0     lakewood estate      byford     4129   vic      19280722   \n",
       "rec-0-org       lakewood estate      byford     4129   vic      19280722   \n",
       "rec-1230-dup-0           fronda         NaN     5148   qld      19870422   \n",
       "rec-0-org       lakewood estate      byford     4129   vic      19280722   \n",
       "rec-2323-dup-0         rsde 668  been leigh     4860   qld      19760214   \n",
       "rec-0-org       lakewood estate      byford     4129   vic      19280722   \n",
       "rec-254-dup-0         crestwood     higgate     2196   NaN      19001231   \n",
       "\n",
       "               soc_sec_id  \n",
       "rec-0-org         1683994  \n",
       "rec-0-dup-0       1683994  \n",
       "rec-0-org         1683994  \n",
       "rec-1230-dup-0    6536232  \n",
       "rec-0-org         1683994  \n",
       "rec-2323-dup-0    1296128  \n",
       "rec-0-org         1683994  \n",
       "rec-254-dup-0     5875656  "
      ]
     },
     "execution_count": 126,
     "metadata": {},
     "output_type": "execute_result"
    }
   ],
   "source": [
    "selected_pairs_values(pairs_to_comp_block[:4])"
   ]
  },
  {
   "cell_type": "markdown",
   "id": "assisted-cinema",
   "metadata": {},
   "source": [
    "### **Méthode du SortedNeighborhood**"
   ]
  },
  {
   "cell_type": "markdown",
   "id": "internal-native",
   "metadata": {},
   "source": [
    "Dans le cas ou les données sont susceptible de contenir des erreurs de typographies, utiliser la méthode SortedNeighborhood peut ajouter une certaine flexibilité pour les fautes d'orthographe mineures. "
   ]
  },
  {
   "cell_type": "code",
   "execution_count": 26,
   "id": "ambient-pacific",
   "metadata": {},
   "outputs": [],
   "source": [
    "def test_sorted_neighbourhood_indexing(blocking_key: list):\n",
    "    for column in blocking_key:\n",
    "        indexer = recordlinkage.SortedNeighbourhoodIndex(column)\n",
    "        pairs_to_comp = indexer.index(first_febrl_dataset, second_febrl_dataset)\n",
    "        real_link_found = pairs_to_comp & true_links\n",
    "        print(\"Nombre de paires sélectionnées: {}\".format(len(pairs_to_comp)))\n",
    "        print(\"Pourcentage de vraies paires selctionnées: {}%.\".format(len(real_link_found)/len(true_links)*100))\n",
    "        \n",
    "    return pairs_to_comp"
   ]
  },
  {
   "cell_type": "code",
   "execution_count": 27,
   "id": "unlimited-things",
   "metadata": {},
   "outputs": [
    {
     "name": "stderr",
     "output_type": "stream",
     "text": [
      "Index.__and__ operating as a set operation is deprecated, in the future this will be a logical operation matching Series.__and__.  Use index.intersection(other) instead\n"
     ]
    },
    {
     "name": "stdout",
     "output_type": "stream",
     "text": [
      "Nombre de paires sélectionnées: 96573\n",
      "Pourcentage de vraies paires selctionnées: 71.26%.\n",
      "Nombre de paires sélectionnées: 21383\n",
      "Pourcentage de vraies paires selctionnées: 83.86%.\n",
      "Nombre de paires sélectionnées: 14770\n",
      "Pourcentage de vraies paires selctionnées: 89.48%.\n",
      "Nombre de paires sélectionnées: 13901\n",
      "Pourcentage de vraies paires selctionnées: 94.48%.\n"
     ]
    },
    {
     "name": "stderr",
     "output_type": "stream",
     "text": [
      "Index.__and__ operating as a set operation is deprecated, in the future this will be a logical operation matching Series.__and__.  Use index.intersection(other) instead\n",
      "Index.__and__ operating as a set operation is deprecated, in the future this will be a logical operation matching Series.__and__.  Use index.intersection(other) instead\n",
      "Index.__and__ operating as a set operation is deprecated, in the future this will be a logical operation matching Series.__and__.  Use index.intersection(other) instead\n"
     ]
    },
    {
     "data": {
      "text/plain": [
       "MultiIndex([('rec-1070-org',  'rec-655-dup-0'),\n",
       "            ('rec-1016-org', 'rec-2168-dup-0'),\n",
       "            ('rec-4405-org', 'rec-2528-dup-0'),\n",
       "            ('rec-1288-org', 'rec-2912-dup-0'),\n",
       "            ('rec-3585-org', 'rec-1657-dup-0'),\n",
       "            ( 'rec-298-org', 'rec-3306-dup-0'),\n",
       "            ('rec-1985-org', 'rec-2207-dup-0'),\n",
       "            ( 'rec-453-org',  'rec-816-dup-0'),\n",
       "            ('rec-4866-org', 'rec-4768-dup-0'),\n",
       "            ('rec-4302-org', 'rec-4142-dup-0'),\n",
       "            ...\n",
       "            ('rec-2792-org', 'rec-2573-dup-0'),\n",
       "            ('rec-2613-org', 'rec-2287-dup-0'),\n",
       "            ('rec-2235-org', 'rec-2692-dup-0'),\n",
       "            ('rec-3877-org', 'rec-3877-dup-0'),\n",
       "            ('rec-1622-org', 'rec-1295-dup-0'),\n",
       "            ('rec-2153-org', 'rec-2477-dup-0'),\n",
       "            ('rec-1604-org', 'rec-3239-dup-0'),\n",
       "            ('rec-1003-org', 'rec-1010-dup-0'),\n",
       "            ('rec-4883-org',  'rec-352-dup-0'),\n",
       "            (  'rec-66-org',  'rec-369-dup-0')],\n",
       "           names=['rec_id_1', 'rec_id_2'], length=13901)"
      ]
     },
     "execution_count": 27,
     "metadata": {},
     "output_type": "execute_result"
    }
   ],
   "source": [
    "pairs_to_comp_sn = test_sorted_neighbourhood_indexing(['given_name', 'address_1', 'date_of_birth', 'soc_sec_id'])"
   ]
  },
  {
   "cell_type": "markdown",
   "id": "embedded-alaska",
   "metadata": {},
   "source": [
    "La méthode basée sur le voisinnage à besoin de plus d'information pour avoir une bonne record rapport."
   ]
  },
  {
   "cell_type": "markdown",
   "id": "excited-japanese",
   "metadata": {},
   "source": [
    "**COMPARAISON**"
   ]
  },
  {
   "cell_type": "markdown",
   "id": "loved-oxford",
   "metadata": {},
   "source": [
    "La méthode suivante consiste à comparer les paires en utilisant Compare. </br>\n",
    "Nous pouvons définir plusieurs options pour la façon dont nous voulons comparer les colonnes de données."
   ]
  },
  {
   "cell_type": "code",
   "execution_count": 29,
   "id": "capable-palestinian",
   "metadata": {},
   "outputs": [],
   "source": [
    "comp = recordlinkage.Compare()\n",
    "\n",
    "# initialise similarity measurement algorithms\n",
    "comp.string('given_name', 'given_name', method='jarowinkler')\n",
    "comp.string('surname', 'surname', method='jarowinkler')\n",
    "comp.string('address_1', 'address_1', method='levenshtein')\n",
    "comp.exact('soc_sec_id', 'soc_sec_id')\n",
    "\n",
    "# the method .compute() returns the DataFrame with the feature vectors.\n",
    "comp_scores_vec = comp.compute(pairs_to_comp_block, first_febrl_dataset, second_febrl_dataset)"
   ]
  },
  {
   "cell_type": "code",
   "execution_count": 30,
   "id": "musical-fiber",
   "metadata": {},
   "outputs": [
    {
     "data": {
      "text/html": [
       "<div>\n",
       "<style scoped>\n",
       "    .dataframe tbody tr th:only-of-type {\n",
       "        vertical-align: middle;\n",
       "    }\n",
       "\n",
       "    .dataframe tbody tr th {\n",
       "        vertical-align: top;\n",
       "    }\n",
       "\n",
       "    .dataframe thead th {\n",
       "        text-align: right;\n",
       "    }\n",
       "</style>\n",
       "<table border=\"1\" class=\"dataframe\">\n",
       "  <thead>\n",
       "    <tr style=\"text-align: right;\">\n",
       "      <th></th>\n",
       "      <th></th>\n",
       "      <th>given_name_score</th>\n",
       "      <th>surname_score</th>\n",
       "      <th>address_1_score</th>\n",
       "      <th>soc_sec_id_score</th>\n",
       "    </tr>\n",
       "    <tr>\n",
       "      <th>rec_id_1</th>\n",
       "      <th>rec_id_2</th>\n",
       "      <th></th>\n",
       "      <th></th>\n",
       "      <th></th>\n",
       "      <th></th>\n",
       "    </tr>\n",
       "  </thead>\n",
       "  <tbody>\n",
       "    <tr>\n",
       "      <th rowspan=\"5\" valign=\"top\">rec-0-org</th>\n",
       "      <th>rec-0-dup-0</th>\n",
       "      <td>1.000000</td>\n",
       "      <td>1.000000</td>\n",
       "      <td>1.000000</td>\n",
       "      <td>1</td>\n",
       "    </tr>\n",
       "    <tr>\n",
       "      <th>rec-1230-dup-0</th>\n",
       "      <td>0.595238</td>\n",
       "      <td>0.407407</td>\n",
       "      <td>1.000000</td>\n",
       "      <td>0</td>\n",
       "    </tr>\n",
       "    <tr>\n",
       "      <th>rec-2323-dup-0</th>\n",
       "      <td>1.000000</td>\n",
       "      <td>0.000000</td>\n",
       "      <td>0.235294</td>\n",
       "      <td>0</td>\n",
       "    </tr>\n",
       "    <tr>\n",
       "      <th>rec-254-dup-0</th>\n",
       "      <td>0.000000</td>\n",
       "      <td>0.500000</td>\n",
       "      <td>1.000000</td>\n",
       "      <td>0</td>\n",
       "    </tr>\n",
       "    <tr>\n",
       "      <th>rec-3625-dup-0</th>\n",
       "      <td>0.714286</td>\n",
       "      <td>0.000000</td>\n",
       "      <td>1.000000</td>\n",
       "      <td>0</td>\n",
       "    </tr>\n",
       "    <tr>\n",
       "      <th>...</th>\n",
       "      <th>...</th>\n",
       "      <td>...</td>\n",
       "      <td>...</td>\n",
       "      <td>...</td>\n",
       "      <td>...</td>\n",
       "    </tr>\n",
       "    <tr>\n",
       "      <th rowspan=\"5\" valign=\"top\">rec-999-org</th>\n",
       "      <th>rec-4961-dup-0</th>\n",
       "      <td>1.000000</td>\n",
       "      <td>0.458333</td>\n",
       "      <td>0.000000</td>\n",
       "      <td>0</td>\n",
       "    </tr>\n",
       "    <tr>\n",
       "      <th>rec-56-dup-0</th>\n",
       "      <td>1.000000</td>\n",
       "      <td>0.453704</td>\n",
       "      <td>0.133333</td>\n",
       "      <td>0</td>\n",
       "    </tr>\n",
       "    <tr>\n",
       "      <th>rec-675-dup-0</th>\n",
       "      <td>1.000000</td>\n",
       "      <td>0.000000</td>\n",
       "      <td>0.133333</td>\n",
       "      <td>0</td>\n",
       "    </tr>\n",
       "    <tr>\n",
       "      <th>rec-91-dup-0</th>\n",
       "      <td>1.000000</td>\n",
       "      <td>0.611111</td>\n",
       "      <td>0.466667</td>\n",
       "      <td>0</td>\n",
       "    </tr>\n",
       "    <tr>\n",
       "      <th>rec-999-dup-0</th>\n",
       "      <td>1.000000</td>\n",
       "      <td>1.000000</td>\n",
       "      <td>1.000000</td>\n",
       "      <td>1</td>\n",
       "    </tr>\n",
       "  </tbody>\n",
       "</table>\n",
       "<p>86959 rows × 4 columns</p>\n",
       "</div>"
      ],
      "text/plain": [
       "                            given_name_score  surname_score  address_1_score  \\\n",
       "rec_id_1    rec_id_2                                                           \n",
       "rec-0-org   rec-0-dup-0             1.000000       1.000000         1.000000   \n",
       "            rec-1230-dup-0          0.595238       0.407407         1.000000   \n",
       "            rec-2323-dup-0          1.000000       0.000000         0.235294   \n",
       "            rec-254-dup-0           0.000000       0.500000         1.000000   \n",
       "            rec-3625-dup-0          0.714286       0.000000         1.000000   \n",
       "...                                      ...            ...              ...   \n",
       "rec-999-org rec-4961-dup-0          1.000000       0.458333         0.000000   \n",
       "            rec-56-dup-0            1.000000       0.453704         0.133333   \n",
       "            rec-675-dup-0           1.000000       0.000000         0.133333   \n",
       "            rec-91-dup-0            1.000000       0.611111         0.466667   \n",
       "            rec-999-dup-0           1.000000       1.000000         1.000000   \n",
       "\n",
       "                            soc_sec_id_score  \n",
       "rec_id_1    rec_id_2                          \n",
       "rec-0-org   rec-0-dup-0                    1  \n",
       "            rec-1230-dup-0                 0  \n",
       "            rec-2323-dup-0                 0  \n",
       "            rec-254-dup-0                  0  \n",
       "            rec-3625-dup-0                 0  \n",
       "...                                      ...  \n",
       "rec-999-org rec-4961-dup-0                 0  \n",
       "            rec-56-dup-0                   0  \n",
       "            rec-675-dup-0                  0  \n",
       "            rec-91-dup-0                   0  \n",
       "            rec-999-dup-0                  1  \n",
       "\n",
       "[86959 rows x 4 columns]"
      ]
     },
     "execution_count": 30,
     "metadata": {},
     "output_type": "execute_result"
    }
   ],
   "source": [
    "comp_scores_vec.columns = ['given_name_score', 'surname_score', 'address_1_score', 'soc_sec_id_score']\n",
    "comp_scores_vec"
   ]
  },
  {
   "cell_type": "markdown",
   "id": "another-gravity",
   "metadata": {},
   "source": [
    "### **CLASSIFICATION SUPERVISEE**"
   ]
  },
  {
   "cell_type": "markdown",
   "id": "bound-production",
   "metadata": {},
   "source": [
    "Les vecteurs de scores de similarités sont donnés en entrée au classifieur (supervisé ou non supervisé). On sépare le jeux de données en deux ensemble de train et test. "
   ]
  },
  {
   "cell_type": "code",
   "execution_count": 31,
   "id": "failing-canberra",
   "metadata": {},
   "outputs": [
    {
     "name": "stderr",
     "output_type": "stream",
     "text": [
      "Index.__and__ operating as a set operation is deprecated, in the future this will be a logical operation matching Series.__and__.  Use index.intersection(other) instead\n",
      "Index.__and__ operating as a set operation is deprecated, in the future this will be a logical operation matching Series.__and__.  Use index.intersection(other) instead\n"
     ]
    }
   ],
   "source": [
    "len_train = 1000\n",
    "comp_scores_vec_train = comp_scores_vec[:len_train]\n",
    "comp_scores_vec_test = comp_scores_vec[len_train:]\n",
    "golden_match_index_train = comp_scores_vec_train.index & true_links\n",
    "golden_match_index_test = comp_scores_vec_test.index & true_links"
   ]
  },
  {
   "cell_type": "code",
   "execution_count": 32,
   "id": "technological-senior",
   "metadata": {
    "scrolled": true
   },
   "outputs": [
    {
     "name": "stderr",
     "output_type": "stream",
     "text": [
      "Index.__and__ operating as a set operation is deprecated, in the future this will be a logical operation matching Series.__and__.  Use index.intersection(other) instead\n"
     ]
    }
   ],
   "source": [
    "clf = recordlinkage.SVMClassifier()\n",
    "clf.fit(comp_scores_vec_train, golden_match_index_train)\n",
    "link_pred = clf.predict(comp_scores_vec_test)"
   ]
  },
  {
   "cell_type": "code",
   "execution_count": null,
   "id": "dried-confusion",
   "metadata": {},
   "outputs": [],
   "source": [
    "#model importation\n",
    "with open('model.pkl', 'wb') as model_file: \n",
    "    pickle.dump(clf, model_file)"
   ]
  },
  {
   "cell_type": "markdown",
   "id": "higher-tours",
   "metadata": {},
   "source": [
    "**EVALUATION**"
   ]
  },
  {
   "cell_type": "code",
   "execution_count": 103,
   "id": "liable-neighborhood",
   "metadata": {},
   "outputs": [],
   "source": [
    "def evaluation(true_links_, pred_links):\n",
    "    print(\"Rappel: {}\".format(recordlinkage.recall(true_links, link_pred)))\n",
    "    print(\"Precision: {}\".format(recordlinkage.precision(true_links, link_pred)))\n",
    "    print(\"Accuracy: {}\".format(recordlinkage.accuracy(true_links, link_pred, comp_scores_vec.index)))\n",
    "    \n",
    "    confusion_matrix = recordlinkage.confusion_matrix(golden_match_index_test, link_pred, len(comp_scores_vec_test))\n",
    "    plot_confusion_matrix(confusion_matrix)"
   ]
  },
  {
   "cell_type": "code",
   "execution_count": 104,
   "id": "southern-faculty",
   "metadata": {
    "scrolled": true
   },
   "outputs": [
    {
     "name": "stdout",
     "output_type": "stream",
     "text": [
      "Rappel: 0.918\n",
      "Precision: 1.0\n",
      "Accuracy: 0.9952851343736704\n"
     ]
    },
    {
     "data": {
      "image/png": "[encoded data removed]",
      "text/plain": [
       "<Figure size 432x288 with 1 Axes>"
      ]
     },
     "metadata": {
      "needs_background": "light"
     },
     "output_type": "display_data"
    }
   ],
   "source": [
    "evaluation(true_links, link_pred)"
   ]
  },
  {
   "cell_type": "markdown",
   "id": "billion-steam",
   "metadata": {
    "scrolled": true
   },
   "source": [
    "### **CLASSIFICATION NON SUPERVISEE**"
   ]
  },
  {
   "cell_type": "code",
   "execution_count": 90,
   "id": "desperate-evolution",
   "metadata": {},
   "outputs": [],
   "source": [
    "model_km = recordlinkage.KMeansClassifier()\n",
    "predict_links_km = model_km.fit_predict(comparison_vectors=comp_scores_vec)"
   ]
  },
  {
   "cell_type": "code",
   "execution_count": 96,
   "id": "grave-apartment",
   "metadata": {},
   "outputs": [
    {
     "data": {
      "image/png": "[encoded data removed]",
      "text/plain": [
       "<Figure size 432x288 with 1 Axes>"
      ]
     },
     "metadata": {
      "needs_background": "light"
     },
     "output_type": "display_data"
    }
   ],
   "source": [
    "confusion_matrix_km = recordlinkage.confusion_matrix(true_links, predict_links_km, len(comp_scores_vec))\n",
    "plot_confusion_matrix(confusion_matrix_km);"
   ]
  },
  {
   "cell_type": "markdown",
   "id": "mechanical-bridal",
   "metadata": {},
   "source": [
    "#######"
   ]
  },
  {
   "cell_type": "code",
   "execution_count": null,
   "id": "natural-discrimination",
   "metadata": {},
   "outputs": [],
   "source": [
    "dir(model)"
   ]
  },
  {
   "cell_type": "code",
   "execution_count": null,
   "id": "other-basic",
   "metadata": {},
   "outputs": [],
   "source": [
    "dir(model.classifier)"
   ]
  }
 ],
 "metadata": {
  "celltoolbar": "Aucun(e)",
  "kernelspec": {
   "display_name": "tdf_data_quality",
   "language": "python",
   "name": "tdf_data_quality"
  },
  "language_info": {
   "codemirror_mode": {
    "name": "ipython",
    "version": 3
   },
   "file_extension": ".py",
   "mimetype": "text/x-python",
   "name": "python",
   "nbconvert_exporter": "python",
   "pygments_lexer": "ipython3",
   "version": "3.9.1"
  }
 },
 "nbformat": 4,
 "nbformat_minor": 5
}
