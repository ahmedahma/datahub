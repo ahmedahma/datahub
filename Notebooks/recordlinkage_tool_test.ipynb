{
 "cells": [
  {
   "cell_type": "markdown",
   "id": "satisfied-charger",
   "metadata": {},
   "source": [
    "# **RECORDLINKAGE  TOOL**"
   ]
  },
  {
   "cell_type": "markdown",
   "id": "million-stand",
   "metadata": {},
   "source": [
    "### Required imports"
   ]
  },
  {
   "cell_type": "code",
   "execution_count": null,
   "id": "exciting-lighter",
   "metadata": {},
   "outputs": [],
   "source": [
    "import pandas as pd\n",
    "import numpy as np\n",
    "import recordlinkage\n",
    "import interpret\n",
    "from sklearn.model_selection import train_test_split\n",
    "\n",
    "from recordlinkage import datasets\n",
    "from raiwidgets import ErrorAnalysisDashboard\n",
    "from interpret.ext.blackbox import MimicExplainer\n",
    "from interpret_community.common.constants import ModelTask"
   ]
  },
  {
   "cell_type": "markdown",
   "id": "dedicated-supply",
   "metadata": {},
   "source": [
    "\n",
    "### Loading datasets "
   ]
  },
  {
   "cell_type": "code",
   "execution_count": null,
   "id": "clean-missile",
   "metadata": {},
   "outputs": [],
   "source": [
    "first_febrl_dataset, second_febrl_dataset = datasets.load_febrl4(return_links=False)"
   ]
  },
  {
   "cell_type": "code",
   "execution_count": null,
   "id": "enabling-processing",
   "metadata": {},
   "outputs": [],
   "source": [
    "indexes_frst_febrl_dataset = sorted(first_febrl_dataset)\n",
    "indexes_scd_febrl_dataset = sorted(second_febrl_dataset.index)\n",
    "true_links = list(zip(indexes_frst_febrl_dataset, indexes_scd_febrl_dataset))"
   ]
  },
  {
   "cell_type": "code",
   "execution_count": null,
   "id": "scientific-condition",
   "metadata": {},
   "outputs": [],
   "source": [
    "first_febrl_dataset.head()"
   ]
  },
  {
   "cell_type": "code",
   "execution_count": null,
   "id": "eleven-conditioning",
   "metadata": {},
   "outputs": [],
   "source": [
    "second_febrl_dataset.head()"
   ]
  },
  {
   "cell_type": "markdown",
   "id": "descending-vehicle",
   "metadata": {},
   "source": [
    "**PREPROCESSING**"
   ]
  },
  {
   "cell_type": "raw",
   "id": "unlike-visit",
   "metadata": {},
   "source": [
    "Le preprocessing proposé par l'outil devra être compléte par des étapes de préprocessing en fonction du use case. On ne l'utilise pas ici car les données utilisées sont déjà nettoyées."
   ]
  },
  {
   "cell_type": "markdown",
   "id": "valuable-housing",
   "metadata": {},
   "source": [
    "**INDEXING STEP**"
   ]
  },
  {
   "cell_type": "markdown",
   "id": "greek-supplier",
   "metadata": {},
   "source": [
    "L'indexation n'est faisable que sur un ou deux jeu de données. Il propose 4 méthodes d'indexations:\n",
    "- Full : renvoie toutes les combinaisons de paires possibles\n",
    "- Block : renvoie tous les éléments qui concordent par rapport aux variables données en entrée \n",
    "- SortedNeighbourhood : renvoie tous les éléments qui concordent par rapport aux variables données en entrée et celles dans leur voisinnage\n",
    "- Random : renvoi des paires crées aléatoirement\n",
    "\n",
    "Ici, nous testons la méthode du block en utilisant les colonnes 'given_name' et 'address_1'. Avec le blocage sur le nom et adresse, les candidats seront filtrés pour n'inclure que ceux dont les valeurs sont similaires."
   ]
  },
  {
   "cell_type": "code",
   "execution_count": null,
   "id": "differential-directive",
   "metadata": {},
   "outputs": [],
   "source": [
    "indexer = recordlinkage.Index()\n",
    "indexer.block(on='given_name')\n",
    "indexer.block(on='address_1')\n",
    "candidate_pairs = indexer.index(first_febrl_dataset, second_febrl_dataset)"
   ]
  },
  {
   "cell_type": "markdown",
   "id": "internal-native",
   "metadata": {},
   "source": [
    "Dans le cas ou les données sont susceptible de contenir des erreurs de typographies, utiliser la méthode SortedNeighborhood peut ajouter une certaine flexibilité pour les fautes d'orthographe mineures. "
   ]
  },
  {
   "cell_type": "markdown",
   "id": "excited-japanese",
   "metadata": {},
   "source": [
    "**COMPARAISON**"
   ]
  },
  {
   "cell_type": "markdown",
   "id": "loved-oxford",
   "metadata": {},
   "source": [
    "La méthode suivante consiste à comparer les paires en utilisant Compare. </br>\n",
    "Nous pouvons définir plusieurs options pour la façon dont nous voulons comparer les colonnes de données."
   ]
  },
  {
   "cell_type": "code",
   "execution_count": null,
   "id": "capable-palestinian",
   "metadata": {},
   "outputs": [],
   "source": [
    "comp = recordlinkage.Compare()\n",
    "\n",
    "# initialise similarity measurement algorithms\n",
    "comp.string('given_name', 'given_name', method='jarowinkler')\n",
    "comp.string('surname', 'surname', method='jarowinkler')\n",
    "comp.string('address_1', 'address_1', method='levenshtein')\n",
    "comp.exact('soc_sec_id', 'soc_sec_id')\n",
    "\n",
    "# the method .compute() returns the DataFrame with the feature vectors.\n",
    "features = comp.compute(candidate_pairs, first_febrl_dataset, second_febrl_dataset)"
   ]
  },
  {
   "cell_type": "markdown",
   "id": "another-gravity",
   "metadata": {},
   "source": [
    "**CLASSIFICATION**"
   ]
  },
  {
   "cell_type": "markdown",
   "id": "bound-production",
   "metadata": {},
   "source": [
    "Les vecteurs de scores de similarités sont donnés en entrée au classifieur (supervisé ou non supervisé). "
   ]
  },
  {
   "cell_type": "code",
   "execution_count": null,
   "id": "worthy-puppy",
   "metadata": {},
   "outputs": [],
   "source": [
    "#kmeans_clf = recordlinkage.KMeansClassifier()\n",
    "#links_pred_kmeans = kmeans_clf.fit_predict(features).values"
   ]
  },
  {
   "cell_type": "code",
   "execution_count": null,
   "id": "british-confidence",
   "metadata": {},
   "outputs": [],
   "source": [
    "# Split data into train and test\n",
    "x_train, x_test, y_train, y_test = train_test_split(candidate_pairs, true_links, test_size=0.5, random_state=0)"
   ]
  },
  {
   "cell_type": "code",
   "execution_count": null,
   "id": "radical-encoding",
   "metadata": {},
   "outputs": [],
   "source": [
    "clf = recordlinkage.SVMClassifier()\n",
    "model = clf.fit(x_train, y_train)"
   ]
  },
  {
   "cell_type": "code",
   "execution_count": null,
   "id": "everyday-galaxy",
   "metadata": {},
   "outputs": [],
   "source": [
    "# Train the LightGBM surrogate model using MimicExplaner\n",
    "model_task = ModelTask.Classification\n",
    "explainer = MimicExplainer(model, x_train, LGBMExplainableModel,\n",
    "                           augment_data=True, max_num_of_augmentations=10,\n",
    "                           features=feature_names, classes=classes, model_task=model_task)"
   ]
  },
  {
   "cell_type": "code",
   "execution_count": null,
   "id": "sustained-interference",
   "metadata": {},
   "outputs": [],
   "source": [
    "global_explanation = explainer.explain_global(x_test)\n",
    "print('global importance rank: {}'.format(global_explanation.get_feature_importance_dict()))"
   ]
  },
  {
   "cell_type": "markdown",
   "id": "abandoned-adobe",
   "metadata": {},
   "source": [
    "**VISUALIZE**"
   ]
  },
  {
   "cell_type": "code",
   "execution_count": null,
   "id": "educational-ratio",
   "metadata": {},
   "outputs": [],
   "source": [
    "ErrorAnalysisDashboard(global_explanation, model, dataset=x_test, true_y=y_test)"
   ]
  }
 ],
 "metadata": {
  "celltoolbar": "Aucun(e)",
  "kernelspec": {
   "display_name": "tdf_data_quality",
   "language": "python",
   "name": "tdf_data_quality"
  },
  "language_info": {
   "codemirror_mode": {
    "name": "ipython",
    "version": 3
   },
   "file_extension": ".py",
   "mimetype": "text/x-python",
   "name": "python",
   "nbconvert_exporter": "python",
   "pygments_lexer": "ipython3",
   "version": "3.9.1"
  }
 },
 "nbformat": 4,
 "nbformat_minor": 5
}
